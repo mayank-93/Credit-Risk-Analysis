{
 "cells": [
  {
   "cell_type": "code",
   "execution_count": 1,
   "metadata": {},
   "outputs": [],
   "source": [
    "import pandas as pd\n",
    "import numpy as np\n",
    "import matplotlib.pyplot as plt\n",
    "import seaborn as sns\n",
    "%matplotlib inline\n",
    "\n",
    "import warnings \n",
    "warnings.filterwarnings(\"ignore\")"
   ]
  },
  {
   "cell_type": "code",
   "execution_count": 2,
   "metadata": {},
   "outputs": [],
   "source": [
    "df1= pd.read_csv('C:/Users/mayan/Desktop/New folder/Project Imarticus/Credit Risk Analysis/archive/XYZCorp_LendingData.txt', delimiter='\\t')"
   ]
  },
  {
   "cell_type": "code",
   "execution_count": 3,
   "metadata": {},
   "outputs": [
    {
     "data": {
      "text/plain": [
       "(855969, 73)"
      ]
     },
     "execution_count": 3,
     "metadata": {},
     "output_type": "execute_result"
    }
   ],
   "source": [
    "df1.shape"
   ]
  },
  {
   "cell_type": "code",
   "execution_count": 3,
   "metadata": {},
   "outputs": [],
   "source": [
    "import copy\n",
    "df= copy.deepcopy(df1)"
   ]
  },
  {
   "cell_type": "code",
   "execution_count": 4,
   "metadata": {},
   "outputs": [
    {
     "data": {
      "text/plain": [
       "(855969, 73)"
      ]
     },
     "execution_count": 4,
     "metadata": {},
     "output_type": "execute_result"
    }
   ],
   "source": [
    "df.shape"
   ]
  },
  {
   "cell_type": "code",
   "execution_count": 5,
   "metadata": {},
   "outputs": [
    {
     "data": {
      "text/html": [
       "<div>\n",
       "<style scoped>\n",
       "    .dataframe tbody tr th:only-of-type {\n",
       "        vertical-align: middle;\n",
       "    }\n",
       "\n",
       "    .dataframe tbody tr th {\n",
       "        vertical-align: top;\n",
       "    }\n",
       "\n",
       "    .dataframe thead th {\n",
       "        text-align: right;\n",
       "    }\n",
       "</style>\n",
       "<table border=\"1\" class=\"dataframe\">\n",
       "  <thead>\n",
       "    <tr style=\"text-align: right;\">\n",
       "      <th></th>\n",
       "      <th>id</th>\n",
       "      <th>member_id</th>\n",
       "      <th>loan_amnt</th>\n",
       "      <th>funded_amnt</th>\n",
       "      <th>funded_amnt_inv</th>\n",
       "      <th>term</th>\n",
       "      <th>int_rate</th>\n",
       "      <th>installment</th>\n",
       "      <th>grade</th>\n",
       "      <th>sub_grade</th>\n",
       "      <th>...</th>\n",
       "      <th>il_util</th>\n",
       "      <th>open_rv_12m</th>\n",
       "      <th>open_rv_24m</th>\n",
       "      <th>max_bal_bc</th>\n",
       "      <th>all_util</th>\n",
       "      <th>total_rev_hi_lim</th>\n",
       "      <th>inq_fi</th>\n",
       "      <th>total_cu_tl</th>\n",
       "      <th>inq_last_12m</th>\n",
       "      <th>default_ind</th>\n",
       "    </tr>\n",
       "  </thead>\n",
       "  <tbody>\n",
       "    <tr>\n",
       "      <th>0</th>\n",
       "      <td>1077501</td>\n",
       "      <td>1296599</td>\n",
       "      <td>5000.0</td>\n",
       "      <td>5000.0</td>\n",
       "      <td>4975.0</td>\n",
       "      <td>36 months</td>\n",
       "      <td>10.65</td>\n",
       "      <td>162.87</td>\n",
       "      <td>B</td>\n",
       "      <td>B2</td>\n",
       "      <td>...</td>\n",
       "      <td>NaN</td>\n",
       "      <td>NaN</td>\n",
       "      <td>NaN</td>\n",
       "      <td>NaN</td>\n",
       "      <td>NaN</td>\n",
       "      <td>NaN</td>\n",
       "      <td>NaN</td>\n",
       "      <td>NaN</td>\n",
       "      <td>NaN</td>\n",
       "      <td>0</td>\n",
       "    </tr>\n",
       "    <tr>\n",
       "      <th>1</th>\n",
       "      <td>1077430</td>\n",
       "      <td>1314167</td>\n",
       "      <td>2500.0</td>\n",
       "      <td>2500.0</td>\n",
       "      <td>2500.0</td>\n",
       "      <td>60 months</td>\n",
       "      <td>15.27</td>\n",
       "      <td>59.83</td>\n",
       "      <td>C</td>\n",
       "      <td>C4</td>\n",
       "      <td>...</td>\n",
       "      <td>NaN</td>\n",
       "      <td>NaN</td>\n",
       "      <td>NaN</td>\n",
       "      <td>NaN</td>\n",
       "      <td>NaN</td>\n",
       "      <td>NaN</td>\n",
       "      <td>NaN</td>\n",
       "      <td>NaN</td>\n",
       "      <td>NaN</td>\n",
       "      <td>1</td>\n",
       "    </tr>\n",
       "    <tr>\n",
       "      <th>2</th>\n",
       "      <td>1077175</td>\n",
       "      <td>1313524</td>\n",
       "      <td>2400.0</td>\n",
       "      <td>2400.0</td>\n",
       "      <td>2400.0</td>\n",
       "      <td>36 months</td>\n",
       "      <td>15.96</td>\n",
       "      <td>84.33</td>\n",
       "      <td>C</td>\n",
       "      <td>C5</td>\n",
       "      <td>...</td>\n",
       "      <td>NaN</td>\n",
       "      <td>NaN</td>\n",
       "      <td>NaN</td>\n",
       "      <td>NaN</td>\n",
       "      <td>NaN</td>\n",
       "      <td>NaN</td>\n",
       "      <td>NaN</td>\n",
       "      <td>NaN</td>\n",
       "      <td>NaN</td>\n",
       "      <td>0</td>\n",
       "    </tr>\n",
       "    <tr>\n",
       "      <th>3</th>\n",
       "      <td>1076863</td>\n",
       "      <td>1277178</td>\n",
       "      <td>10000.0</td>\n",
       "      <td>10000.0</td>\n",
       "      <td>10000.0</td>\n",
       "      <td>36 months</td>\n",
       "      <td>13.49</td>\n",
       "      <td>339.31</td>\n",
       "      <td>C</td>\n",
       "      <td>C1</td>\n",
       "      <td>...</td>\n",
       "      <td>NaN</td>\n",
       "      <td>NaN</td>\n",
       "      <td>NaN</td>\n",
       "      <td>NaN</td>\n",
       "      <td>NaN</td>\n",
       "      <td>NaN</td>\n",
       "      <td>NaN</td>\n",
       "      <td>NaN</td>\n",
       "      <td>NaN</td>\n",
       "      <td>0</td>\n",
       "    </tr>\n",
       "    <tr>\n",
       "      <th>4</th>\n",
       "      <td>1075358</td>\n",
       "      <td>1311748</td>\n",
       "      <td>3000.0</td>\n",
       "      <td>3000.0</td>\n",
       "      <td>3000.0</td>\n",
       "      <td>60 months</td>\n",
       "      <td>12.69</td>\n",
       "      <td>67.79</td>\n",
       "      <td>B</td>\n",
       "      <td>B5</td>\n",
       "      <td>...</td>\n",
       "      <td>NaN</td>\n",
       "      <td>NaN</td>\n",
       "      <td>NaN</td>\n",
       "      <td>NaN</td>\n",
       "      <td>NaN</td>\n",
       "      <td>NaN</td>\n",
       "      <td>NaN</td>\n",
       "      <td>NaN</td>\n",
       "      <td>NaN</td>\n",
       "      <td>0</td>\n",
       "    </tr>\n",
       "  </tbody>\n",
       "</table>\n",
       "<p>5 rows × 73 columns</p>\n",
       "</div>"
      ],
      "text/plain": [
       "        id  member_id  loan_amnt  funded_amnt  funded_amnt_inv        term  \\\n",
       "0  1077501    1296599     5000.0       5000.0           4975.0   36 months   \n",
       "1  1077430    1314167     2500.0       2500.0           2500.0   60 months   \n",
       "2  1077175    1313524     2400.0       2400.0           2400.0   36 months   \n",
       "3  1076863    1277178    10000.0      10000.0          10000.0   36 months   \n",
       "4  1075358    1311748     3000.0       3000.0           3000.0   60 months   \n",
       "\n",
       "   int_rate  installment grade sub_grade  ... il_util open_rv_12m open_rv_24m  \\\n",
       "0     10.65       162.87     B        B2  ...     NaN         NaN         NaN   \n",
       "1     15.27        59.83     C        C4  ...     NaN         NaN         NaN   \n",
       "2     15.96        84.33     C        C5  ...     NaN         NaN         NaN   \n",
       "3     13.49       339.31     C        C1  ...     NaN         NaN         NaN   \n",
       "4     12.69        67.79     B        B5  ...     NaN         NaN         NaN   \n",
       "\n",
       "   max_bal_bc all_util total_rev_hi_lim inq_fi total_cu_tl inq_last_12m  \\\n",
       "0         NaN      NaN              NaN    NaN         NaN          NaN   \n",
       "1         NaN      NaN              NaN    NaN         NaN          NaN   \n",
       "2         NaN      NaN              NaN    NaN         NaN          NaN   \n",
       "3         NaN      NaN              NaN    NaN         NaN          NaN   \n",
       "4         NaN      NaN              NaN    NaN         NaN          NaN   \n",
       "\n",
       "  default_ind  \n",
       "0           0  \n",
       "1           1  \n",
       "2           0  \n",
       "3           0  \n",
       "4           0  \n",
       "\n",
       "[5 rows x 73 columns]"
      ]
     },
     "execution_count": 5,
     "metadata": {},
     "output_type": "execute_result"
    }
   ],
   "source": [
    "df.head()"
   ]
  },
  {
   "cell_type": "markdown",
   "metadata": {},
   "source": [
    "## Checking missing values\n"
   ]
  },
  {
   "cell_type": "code",
   "execution_count": 6,
   "metadata": {},
   "outputs": [
    {
     "data": {
      "text/plain": [
       "<matplotlib.axes._subplots.AxesSubplot at 0x2a45c1320f0>"
      ]
     },
     "execution_count": 6,
     "metadata": {},
     "output_type": "execute_result"
    },
    {
     "data": {
      "image/png": "[encoded data removed]",
      "text/plain": [
       "<Figure size 1080x360 with 2 Axes>"
      ]
     },
     "metadata": {
      "needs_background": "light"
     },
     "output_type": "display_data"
    }
   ],
   "source": [
    "plt.figure(figsize=(15,5))\n",
    "sns.heatmap(df.isnull(),cmap='magma')"
   ]
  },
  {
   "cell_type": "markdown",
   "metadata": {},
   "source": [
    "#### Percentage of missing values column wise"
   ]
  },
  {
   "cell_type": "code",
   "execution_count": 7,
   "metadata": {},
   "outputs": [
    {
     "data": {
      "text/plain": [
       "dti_joint                      99.948596\n",
       "verification_status_joint      99.948363\n",
       "annual_inc_joint               99.948363\n",
       "il_util                        98.643759\n",
       "mths_since_rcnt_il             98.488964\n",
       "total_bal_il                   98.447607\n",
       "inq_last_12m                   98.447607\n",
       "open_acc_6m                    98.447607\n",
       "open_il_6m                     98.447607\n",
       "open_il_24m                    98.447607\n",
       "open_il_12m                    98.447607\n",
       "open_rv_12m                    98.447607\n",
       "open_rv_24m                    98.447607\n",
       "max_bal_bc                     98.447607\n",
       "all_util                       98.447607\n",
       "inq_fi                         98.447607\n",
       "total_cu_tl                    98.447607\n",
       "desc                           85.769111\n",
       "mths_since_last_record         84.674211\n",
       "mths_since_last_major_derog    75.099682\n",
       "dtype: float64"
      ]
     },
     "execution_count": 7,
     "metadata": {},
     "output_type": "execute_result"
    }
   ],
   "source": [
    "mis_data=df.isnull().mean().sort_values(ascending=False)*100\n",
    "mis_data.head(20)"
   ]
  },
  {
   "cell_type": "markdown",
   "metadata": {},
   "source": [
    "#### Dropping Columns which have missing values more or equal to 50%"
   ]
  },
  {
   "cell_type": "code",
   "execution_count": 8,
   "metadata": {},
   "outputs": [],
   "source": [
    "df=df.dropna(thresh=len(df)*0.5,axis=1)"
   ]
  },
  {
   "cell_type": "code",
   "execution_count": 9,
   "metadata": {},
   "outputs": [
    {
     "data": {
      "text/plain": [
       "<matplotlib.axes._subplots.AxesSubplot at 0x2a406887dd8>"
      ]
     },
     "execution_count": 9,
     "metadata": {},
     "output_type": "execute_result"
    },
    {
     "data": {
      "image/png": "[encoded data removed]",
      "text/plain": [
       "<Figure size 1080x360 with 2 Axes>"
      ]
     },
     "metadata": {
      "needs_background": "light"
     },
     "output_type": "display_data"
    }
   ],
   "source": [
    "plt.figure(figsize=(15,5))\n",
    "sns.heatmap(df.isnull(),cmap='magma')"
   ]
  },
  {
   "cell_type": "markdown",
   "metadata": {},
   "source": [
    "#### Checking for duplicates"
   ]
  },
  {
   "cell_type": "code",
   "execution_count": 10,
   "metadata": {},
   "outputs": [
    {
     "data": {
      "text/plain": [
       "False    855969\n",
       "dtype: int64"
      ]
     },
     "execution_count": 10,
     "metadata": {},
     "output_type": "execute_result"
    }
   ],
   "source": [
    "df.duplicated().value_counts()"
   ]
  },
  {
   "cell_type": "markdown",
   "metadata": {},
   "source": [
    "#### Summary of Data"
   ]
  },
  {
   "cell_type": "code",
   "execution_count": 11,
   "metadata": {},
   "outputs": [
    {
     "data": {
      "text/html": [
       "<div>\n",
       "<style scoped>\n",
       "    .dataframe tbody tr th:only-of-type {\n",
       "        vertical-align: middle;\n",
       "    }\n",
       "\n",
       "    .dataframe tbody tr th {\n",
       "        vertical-align: top;\n",
       "    }\n",
       "\n",
       "    .dataframe thead th {\n",
       "        text-align: right;\n",
       "    }\n",
       "</style>\n",
       "<table border=\"1\" class=\"dataframe\">\n",
       "  <thead>\n",
       "    <tr style=\"text-align: right;\">\n",
       "      <th></th>\n",
       "      <th>id</th>\n",
       "      <th>member_id</th>\n",
       "      <th>loan_amnt</th>\n",
       "      <th>funded_amnt</th>\n",
       "      <th>funded_amnt_inv</th>\n",
       "      <th>int_rate</th>\n",
       "      <th>installment</th>\n",
       "      <th>annual_inc</th>\n",
       "      <th>dti</th>\n",
       "      <th>delinq_2yrs</th>\n",
       "      <th>...</th>\n",
       "      <th>recoveries</th>\n",
       "      <th>collection_recovery_fee</th>\n",
       "      <th>last_pymnt_amnt</th>\n",
       "      <th>collections_12_mths_ex_med</th>\n",
       "      <th>policy_code</th>\n",
       "      <th>acc_now_delinq</th>\n",
       "      <th>tot_coll_amt</th>\n",
       "      <th>tot_cur_bal</th>\n",
       "      <th>total_rev_hi_lim</th>\n",
       "      <th>default_ind</th>\n",
       "    </tr>\n",
       "  </thead>\n",
       "  <tbody>\n",
       "    <tr>\n",
       "      <th>count</th>\n",
       "      <td>8.559690e+05</td>\n",
       "      <td>8.559690e+05</td>\n",
       "      <td>855969.000000</td>\n",
       "      <td>855969.000000</td>\n",
       "      <td>855969.000000</td>\n",
       "      <td>855969.000000</td>\n",
       "      <td>855969.000000</td>\n",
       "      <td>8.559690e+05</td>\n",
       "      <td>855969.000000</td>\n",
       "      <td>855969.000000</td>\n",
       "      <td>...</td>\n",
       "      <td>855969.000000</td>\n",
       "      <td>855969.000000</td>\n",
       "      <td>855969.000000</td>\n",
       "      <td>855913.000000</td>\n",
       "      <td>855969.0</td>\n",
       "      <td>855969.000000</td>\n",
       "      <td>7.886560e+05</td>\n",
       "      <td>7.886560e+05</td>\n",
       "      <td>7.886560e+05</td>\n",
       "      <td>855969.000000</td>\n",
       "    </tr>\n",
       "    <tr>\n",
       "      <th>mean</th>\n",
       "      <td>3.224073e+07</td>\n",
       "      <td>3.476269e+07</td>\n",
       "      <td>14745.571335</td>\n",
       "      <td>14732.378305</td>\n",
       "      <td>14700.061226</td>\n",
       "      <td>13.192320</td>\n",
       "      <td>436.238072</td>\n",
       "      <td>7.507119e+04</td>\n",
       "      <td>18.122165</td>\n",
       "      <td>0.311621</td>\n",
       "      <td>...</td>\n",
       "      <td>47.089499</td>\n",
       "      <td>4.951227</td>\n",
       "      <td>2225.985295</td>\n",
       "      <td>0.014230</td>\n",
       "      <td>1.0</td>\n",
       "      <td>0.004944</td>\n",
       "      <td>2.254129e+02</td>\n",
       "      <td>1.397662e+05</td>\n",
       "      <td>3.216357e+04</td>\n",
       "      <td>0.054286</td>\n",
       "    </tr>\n",
       "    <tr>\n",
       "      <th>std</th>\n",
       "      <td>2.271969e+07</td>\n",
       "      <td>2.399418e+07</td>\n",
       "      <td>8425.340005</td>\n",
       "      <td>8419.471653</td>\n",
       "      <td>8425.805478</td>\n",
       "      <td>4.368365</td>\n",
       "      <td>243.726876</td>\n",
       "      <td>6.426447e+04</td>\n",
       "      <td>17.423629</td>\n",
       "      <td>0.857189</td>\n",
       "      <td>...</td>\n",
       "      <td>413.136043</td>\n",
       "      <td>62.478569</td>\n",
       "      <td>4864.966593</td>\n",
       "      <td>0.133712</td>\n",
       "      <td>0.0</td>\n",
       "      <td>0.077333</td>\n",
       "      <td>1.048945e+04</td>\n",
       "      <td>1.539385e+05</td>\n",
       "      <td>3.769964e+04</td>\n",
       "      <td>0.226581</td>\n",
       "    </tr>\n",
       "    <tr>\n",
       "      <th>min</th>\n",
       "      <td>5.473400e+04</td>\n",
       "      <td>7.069900e+04</td>\n",
       "      <td>500.000000</td>\n",
       "      <td>500.000000</td>\n",
       "      <td>0.000000</td>\n",
       "      <td>5.320000</td>\n",
       "      <td>15.690000</td>\n",
       "      <td>0.000000e+00</td>\n",
       "      <td>0.000000</td>\n",
       "      <td>0.000000</td>\n",
       "      <td>...</td>\n",
       "      <td>0.000000</td>\n",
       "      <td>0.000000</td>\n",
       "      <td>0.000000</td>\n",
       "      <td>0.000000</td>\n",
       "      <td>1.0</td>\n",
       "      <td>0.000000</td>\n",
       "      <td>0.000000e+00</td>\n",
       "      <td>0.000000e+00</td>\n",
       "      <td>0.000000e+00</td>\n",
       "      <td>0.000000</td>\n",
       "    </tr>\n",
       "    <tr>\n",
       "      <th>25%</th>\n",
       "      <td>9.067986e+06</td>\n",
       "      <td>1.079273e+07</td>\n",
       "      <td>8000.000000</td>\n",
       "      <td>8000.000000</td>\n",
       "      <td>8000.000000</td>\n",
       "      <td>9.990000</td>\n",
       "      <td>260.550000</td>\n",
       "      <td>4.500000e+04</td>\n",
       "      <td>11.880000</td>\n",
       "      <td>0.000000</td>\n",
       "      <td>...</td>\n",
       "      <td>0.000000</td>\n",
       "      <td>0.000000</td>\n",
       "      <td>285.420000</td>\n",
       "      <td>0.000000</td>\n",
       "      <td>1.0</td>\n",
       "      <td>0.000000</td>\n",
       "      <td>0.000000e+00</td>\n",
       "      <td>2.987000e+04</td>\n",
       "      <td>1.400000e+04</td>\n",
       "      <td>0.000000</td>\n",
       "    </tr>\n",
       "    <tr>\n",
       "      <th>50%</th>\n",
       "      <td>3.431355e+07</td>\n",
       "      <td>3.697532e+07</td>\n",
       "      <td>13000.000000</td>\n",
       "      <td>13000.000000</td>\n",
       "      <td>13000.000000</td>\n",
       "      <td>12.990000</td>\n",
       "      <td>382.550000</td>\n",
       "      <td>6.500000e+04</td>\n",
       "      <td>17.610000</td>\n",
       "      <td>0.000000</td>\n",
       "      <td>...</td>\n",
       "      <td>0.000000</td>\n",
       "      <td>0.000000</td>\n",
       "      <td>468.820000</td>\n",
       "      <td>0.000000</td>\n",
       "      <td>1.0</td>\n",
       "      <td>0.000000</td>\n",
       "      <td>0.000000e+00</td>\n",
       "      <td>8.100850e+04</td>\n",
       "      <td>2.380000e+04</td>\n",
       "      <td>0.000000</td>\n",
       "    </tr>\n",
       "    <tr>\n",
       "      <th>75%</th>\n",
       "      <td>5.446311e+07</td>\n",
       "      <td>5.803559e+07</td>\n",
       "      <td>20000.000000</td>\n",
       "      <td>20000.000000</td>\n",
       "      <td>20000.000000</td>\n",
       "      <td>15.990000</td>\n",
       "      <td>571.560000</td>\n",
       "      <td>9.000000e+04</td>\n",
       "      <td>23.900000</td>\n",
       "      <td>0.000000</td>\n",
       "      <td>...</td>\n",
       "      <td>0.000000</td>\n",
       "      <td>0.000000</td>\n",
       "      <td>849.160000</td>\n",
       "      <td>0.000000</td>\n",
       "      <td>1.0</td>\n",
       "      <td>0.000000</td>\n",
       "      <td>0.000000e+00</td>\n",
       "      <td>2.087032e+05</td>\n",
       "      <td>3.990000e+04</td>\n",
       "      <td>0.000000</td>\n",
       "    </tr>\n",
       "    <tr>\n",
       "      <th>max</th>\n",
       "      <td>6.861687e+07</td>\n",
       "      <td>7.351969e+07</td>\n",
       "      <td>35000.000000</td>\n",
       "      <td>35000.000000</td>\n",
       "      <td>35000.000000</td>\n",
       "      <td>28.990000</td>\n",
       "      <td>1445.460000</td>\n",
       "      <td>9.500000e+06</td>\n",
       "      <td>9999.000000</td>\n",
       "      <td>39.000000</td>\n",
       "      <td>...</td>\n",
       "      <td>33520.270000</td>\n",
       "      <td>7002.190000</td>\n",
       "      <td>36475.590000</td>\n",
       "      <td>20.000000</td>\n",
       "      <td>1.0</td>\n",
       "      <td>14.000000</td>\n",
       "      <td>9.152545e+06</td>\n",
       "      <td>8.000078e+06</td>\n",
       "      <td>9.999999e+06</td>\n",
       "      <td>1.000000</td>\n",
       "    </tr>\n",
       "  </tbody>\n",
       "</table>\n",
       "<p>8 rows × 33 columns</p>\n",
       "</div>"
      ],
      "text/plain": [
       "                 id     member_id      loan_amnt    funded_amnt  \\\n",
       "count  8.559690e+05  8.559690e+05  855969.000000  855969.000000   \n",
       "mean   3.224073e+07  3.476269e+07   14745.571335   14732.378305   \n",
       "std    2.271969e+07  2.399418e+07    8425.340005    8419.471653   \n",
       "min    5.473400e+04  7.069900e+04     500.000000     500.000000   \n",
       "25%    9.067986e+06  1.079273e+07    8000.000000    8000.000000   \n",
       "50%    3.431355e+07  3.697532e+07   13000.000000   13000.000000   \n",
       "75%    5.446311e+07  5.803559e+07   20000.000000   20000.000000   \n",
       "max    6.861687e+07  7.351969e+07   35000.000000   35000.000000   \n",
       "\n",
       "       funded_amnt_inv       int_rate    installment    annual_inc  \\\n",
       "count    855969.000000  855969.000000  855969.000000  8.559690e+05   \n",
       "mean      14700.061226      13.192320     436.238072  7.507119e+04   \n",
       "std        8425.805478       4.368365     243.726876  6.426447e+04   \n",
       "min           0.000000       5.320000      15.690000  0.000000e+00   \n",
       "25%        8000.000000       9.990000     260.550000  4.500000e+04   \n",
       "50%       13000.000000      12.990000     382.550000  6.500000e+04   \n",
       "75%       20000.000000      15.990000     571.560000  9.000000e+04   \n",
       "max       35000.000000      28.990000    1445.460000  9.500000e+06   \n",
       "\n",
       "                 dti    delinq_2yrs  ...     recoveries  \\\n",
       "count  855969.000000  855969.000000  ...  855969.000000   \n",
       "mean       18.122165       0.311621  ...      47.089499   \n",
       "std        17.423629       0.857189  ...     413.136043   \n",
       "min         0.000000       0.000000  ...       0.000000   \n",
       "25%        11.880000       0.000000  ...       0.000000   \n",
       "50%        17.610000       0.000000  ...       0.000000   \n",
       "75%        23.900000       0.000000  ...       0.000000   \n",
       "max      9999.000000      39.000000  ...   33520.270000   \n",
       "\n",
       "       collection_recovery_fee  last_pymnt_amnt  collections_12_mths_ex_med  \\\n",
       "count            855969.000000    855969.000000               855913.000000   \n",
       "mean                  4.951227      2225.985295                    0.014230   \n",
       "std                  62.478569      4864.966593                    0.133712   \n",
       "min                   0.000000         0.000000                    0.000000   \n",
       "25%                   0.000000       285.420000                    0.000000   \n",
       "50%                   0.000000       468.820000                    0.000000   \n",
       "75%                   0.000000       849.160000                    0.000000   \n",
       "max                7002.190000     36475.590000                   20.000000   \n",
       "\n",
       "       policy_code  acc_now_delinq  tot_coll_amt   tot_cur_bal  \\\n",
       "count     855969.0   855969.000000  7.886560e+05  7.886560e+05   \n",
       "mean           1.0        0.004944  2.254129e+02  1.397662e+05   \n",
       "std            0.0        0.077333  1.048945e+04  1.539385e+05   \n",
       "min            1.0        0.000000  0.000000e+00  0.000000e+00   \n",
       "25%            1.0        0.000000  0.000000e+00  2.987000e+04   \n",
       "50%            1.0        0.000000  0.000000e+00  8.100850e+04   \n",
       "75%            1.0        0.000000  0.000000e+00  2.087032e+05   \n",
       "max            1.0       14.000000  9.152545e+06  8.000078e+06   \n",
       "\n",
       "       total_rev_hi_lim    default_ind  \n",
       "count      7.886560e+05  855969.000000  \n",
       "mean       3.216357e+04       0.054286  \n",
       "std        3.769964e+04       0.226581  \n",
       "min        0.000000e+00       0.000000  \n",
       "25%        1.400000e+04       0.000000  \n",
       "50%        2.380000e+04       0.000000  \n",
       "75%        3.990000e+04       0.000000  \n",
       "max        9.999999e+06       1.000000  \n",
       "\n",
       "[8 rows x 33 columns]"
      ]
     },
     "execution_count": 11,
     "metadata": {},
     "output_type": "execute_result"
    }
   ],
   "source": [
    "df.describe()"
   ]
  },
  {
   "cell_type": "markdown",
   "metadata": {},
   "source": [
    "#### Checking Fields data type"
   ]
  },
  {
   "cell_type": "code",
   "execution_count": 12,
   "metadata": {},
   "outputs": [
    {
     "name": "stdout",
     "output_type": "stream",
     "text": [
      "<class 'pandas.core.frame.DataFrame'>\n",
      "RangeIndex: 855969 entries, 0 to 855968\n",
      "Data columns (total 52 columns):\n",
      "id                            855969 non-null int64\n",
      "member_id                     855969 non-null int64\n",
      "loan_amnt                     855969 non-null float64\n",
      "funded_amnt                   855969 non-null float64\n",
      "funded_amnt_inv               855969 non-null float64\n",
      "term                          855969 non-null object\n",
      "int_rate                      855969 non-null float64\n",
      "installment                   855969 non-null float64\n",
      "grade                         855969 non-null object\n",
      "sub_grade                     855969 non-null object\n",
      "emp_title                     806526 non-null object\n",
      "emp_length                    812908 non-null object\n",
      "home_ownership                855969 non-null object\n",
      "annual_inc                    855969 non-null float64\n",
      "verification_status           855969 non-null object\n",
      "issue_d                       855969 non-null object\n",
      "pymnt_plan                    855969 non-null object\n",
      "purpose                       855969 non-null object\n",
      "title                         855936 non-null object\n",
      "zip_code                      855969 non-null object\n",
      "addr_state                    855969 non-null object\n",
      "dti                           855969 non-null float64\n",
      "delinq_2yrs                   855969 non-null float64\n",
      "earliest_cr_line              855969 non-null object\n",
      "inq_last_6mths                855969 non-null float64\n",
      "open_acc                      855969 non-null float64\n",
      "pub_rec                       855969 non-null float64\n",
      "revol_bal                     855969 non-null float64\n",
      "revol_util                    855523 non-null float64\n",
      "total_acc                     855969 non-null float64\n",
      "initial_list_status           855969 non-null object\n",
      "out_prncp                     855969 non-null float64\n",
      "out_prncp_inv                 855969 non-null float64\n",
      "total_pymnt                   855969 non-null float64\n",
      "total_pymnt_inv               855969 non-null float64\n",
      "total_rec_prncp               855969 non-null float64\n",
      "total_rec_int                 855969 non-null float64\n",
      "total_rec_late_fee            855969 non-null float64\n",
      "recoveries                    855969 non-null float64\n",
      "collection_recovery_fee       855969 non-null float64\n",
      "last_pymnt_d                  847107 non-null object\n",
      "last_pymnt_amnt               855969 non-null float64\n",
      "next_pymnt_d                  602998 non-null object\n",
      "last_credit_pull_d            855919 non-null object\n",
      "collections_12_mths_ex_med    855913 non-null float64\n",
      "policy_code                   855969 non-null float64\n",
      "application_type              855969 non-null object\n",
      "acc_now_delinq                855969 non-null float64\n",
      "tot_coll_amt                  788656 non-null float64\n",
      "tot_cur_bal                   788656 non-null float64\n",
      "total_rev_hi_lim              788656 non-null float64\n",
      "default_ind                   855969 non-null int64\n",
      "dtypes: float64(30), int64(3), object(19)\n",
      "memory usage: 339.6+ MB\n"
     ]
    }
   ],
   "source": [
    "df.info()"
   ]
  },
  {
   "cell_type": "markdown",
   "metadata": {},
   "source": [
    "#### Categorical Fields"
   ]
  },
  {
   "cell_type": "code",
   "execution_count": 13,
   "metadata": {},
   "outputs": [
    {
     "data": {
      "text/plain": [
       "term                        2\n",
       "grade                       7\n",
       "sub_grade                  35\n",
       "emp_title              290912\n",
       "emp_length                 11\n",
       "home_ownership              6\n",
       "verification_status         3\n",
       "issue_d                   103\n",
       "pymnt_plan                  2\n",
       "purpose                    14\n",
       "title                   60991\n",
       "zip_code                  931\n",
       "addr_state                 51\n",
       "earliest_cr_line          697\n",
       "initial_list_status         2\n",
       "last_pymnt_d               97\n",
       "next_pymnt_d                3\n",
       "last_credit_pull_d        102\n",
       "application_type            2\n",
       "dtype: int64"
      ]
     },
     "execution_count": 13,
     "metadata": {},
     "output_type": "execute_result"
    }
   ],
   "source": [
    "df.select_dtypes('object').apply(pd.Series.nunique,axis=0)"
   ]
  },
  {
   "cell_type": "code",
   "execution_count": 14,
   "metadata": {},
   "outputs": [],
   "source": [
    "columns=['term','application_type', 'pymnt_plan','purpose','grade','sub_grade','emp_length','home_ownership','verification_status']\n",
    "for col in columns:\n",
    "    df[col]= df[col].astype('category')"
   ]
  },
  {
   "cell_type": "markdown",
   "metadata": {},
   "source": [
    "#### Coverting to Category Data type from Object"
   ]
  },
  {
   "cell_type": "code",
   "execution_count": 15,
   "metadata": {},
   "outputs": [
    {
     "name": "stdout",
     "output_type": "stream",
     "text": [
      "<class 'pandas.core.frame.DataFrame'>\n",
      "RangeIndex: 855969 entries, 0 to 855968\n",
      "Data columns (total 52 columns):\n",
      "id                            855969 non-null int64\n",
      "member_id                     855969 non-null int64\n",
      "loan_amnt                     855969 non-null float64\n",
      "funded_amnt                   855969 non-null float64\n",
      "funded_amnt_inv               855969 non-null float64\n",
      "term                          855969 non-null category\n",
      "int_rate                      855969 non-null float64\n",
      "installment                   855969 non-null float64\n",
      "grade                         855969 non-null category\n",
      "sub_grade                     855969 non-null category\n",
      "emp_title                     806526 non-null object\n",
      "emp_length                    812908 non-null category\n",
      "home_ownership                855969 non-null category\n",
      "annual_inc                    855969 non-null float64\n",
      "verification_status           855969 non-null category\n",
      "issue_d                       855969 non-null object\n",
      "pymnt_plan                    855969 non-null category\n",
      "purpose                       855969 non-null category\n",
      "title                         855936 non-null object\n",
      "zip_code                      855969 non-null object\n",
      "addr_state                    855969 non-null object\n",
      "dti                           855969 non-null float64\n",
      "delinq_2yrs                   855969 non-null float64\n",
      "earliest_cr_line              855969 non-null object\n",
      "inq_last_6mths                855969 non-null float64\n",
      "open_acc                      855969 non-null float64\n",
      "pub_rec                       855969 non-null float64\n",
      "revol_bal                     855969 non-null float64\n",
      "revol_util                    855523 non-null float64\n",
      "total_acc                     855969 non-null float64\n",
      "initial_list_status           855969 non-null object\n",
      "out_prncp                     855969 non-null float64\n",
      "out_prncp_inv                 855969 non-null float64\n",
      "total_pymnt                   855969 non-null float64\n",
      "total_pymnt_inv               855969 non-null float64\n",
      "total_rec_prncp               855969 non-null float64\n",
      "total_rec_int                 855969 non-null float64\n",
      "total_rec_late_fee            855969 non-null float64\n",
      "recoveries                    855969 non-null float64\n",
      "collection_recovery_fee       855969 non-null float64\n",
      "last_pymnt_d                  847107 non-null object\n",
      "last_pymnt_amnt               855969 non-null float64\n",
      "next_pymnt_d                  602998 non-null object\n",
      "last_credit_pull_d            855919 non-null object\n",
      "collections_12_mths_ex_med    855913 non-null float64\n",
      "policy_code                   855969 non-null float64\n",
      "application_type              855969 non-null category\n",
      "acc_now_delinq                855969 non-null float64\n",
      "tot_coll_amt                  788656 non-null float64\n",
      "tot_cur_bal                   788656 non-null float64\n",
      "total_rev_hi_lim              788656 non-null float64\n",
      "default_ind                   855969 non-null int64\n",
      "dtypes: category(9), float64(30), int64(3), object(10)\n",
      "memory usage: 288.2+ MB\n"
     ]
    }
   ],
   "source": [
    "df.info()"
   ]
  },
  {
   "cell_type": "markdown",
   "metadata": {},
   "source": [
    "## Exploratory Data Analysis"
   ]
  },
  {
   "cell_type": "code",
   "execution_count": 19,
   "metadata": {},
   "outputs": [
    {
     "data": {
      "text/plain": [
       "Text(0.5, 1.0, 'Non_Default Customer        Default Customer')"
      ]
     },
     "execution_count": 19,
     "metadata": {},
     "output_type": "execute_result"
    },
    {
     "data": {
      "image/png": "[encoded data removed]",
      "text/plain": [
       "<Figure size 432x288 with 1 Axes>"
      ]
     },
     "metadata": {
      "needs_background": "light"
     },
     "output_type": "display_data"
    }
   ],
   "source": [
    "sns.countplot(df['default_ind'])\n",
    "plt.title('Non_Default Customer        Default Customer')"
   ]
  },
  {
   "cell_type": "code",
   "execution_count": 20,
   "metadata": {},
   "outputs": [
    {
     "data": {
      "text/plain": [
       "0    809502\n",
       "1     46467\n",
       "Name: default_ind, dtype: int64"
      ]
     },
     "execution_count": 20,
     "metadata": {},
     "output_type": "execute_result"
    }
   ],
   "source": [
    "df['default_ind'].value_counts()"
   ]
  },
  {
   "cell_type": "code",
   "execution_count": 21,
   "metadata": {},
   "outputs": [
    {
     "data": {
      "text/plain": [
       "0    94.571416\n",
       "1     5.428584\n",
       "Name: default_ind, dtype: float64"
      ]
     },
     "execution_count": 21,
     "metadata": {},
     "output_type": "execute_result"
    }
   ],
   "source": [
    "df['default_ind'].value_counts()/len(df)*100"
   ]
  },
  {
   "cell_type": "markdown",
   "metadata": {},
   "source": [
    "__We can note that Defaulter customer is very only 5.42 % in comparision to Non Defalter which are 94.57 %__"
   ]
  },
  {
   "cell_type": "markdown",
   "metadata": {},
   "source": [
    "### Loan Term"
   ]
  },
  {
   "cell_type": "code",
   "execution_count": 22,
   "metadata": {},
   "outputs": [
    {
     "data": {
      "text/plain": [
       " 36 months    600221\n",
       " 60 months    255748\n",
       "Name: term, dtype: int64"
      ]
     },
     "execution_count": 22,
     "metadata": {},
     "output_type": "execute_result"
    }
   ],
   "source": [
    "df.term.value_counts()"
   ]
  },
  {
   "cell_type": "code",
   "execution_count": 25,
   "metadata": {},
   "outputs": [
    {
     "data": {
      "text/plain": [
       "Text(0.5, 1.0, 'Loan Terms')"
      ]
     },
     "execution_count": 25,
     "metadata": {},
     "output_type": "execute_result"
    },
    {
     "data": {
      "image/png": "[encoded data removed]",
      "text/plain": [
       "<Figure size 1080x432 with 1 Axes>"
      ]
     },
     "metadata": {
      "needs_background": "light"
     },
     "output_type": "display_data"
    }
   ],
   "source": [
    "plt.figure(figsize=(15,6))\n",
    "sns.barplot(y=df['term'].value_counts(), x=df['term'].value_counts().index)\n",
    "plt.title(\"Loan Terms\")"
   ]
  },
  {
   "cell_type": "markdown",
   "metadata": {},
   "source": [
    "___People have prefered taking loan for_  3 years  _than_  5 years__"
   ]
  },
  {
   "cell_type": "markdown",
   "metadata": {},
   "source": [
    "### Grade"
   ]
  },
  {
   "cell_type": "code",
   "execution_count": 26,
   "metadata": {},
   "outputs": [
    {
     "data": {
      "text/plain": [
       "<matplotlib.axes._subplots.AxesSubplot at 0x2a403d76be0>"
      ]
     },
     "execution_count": 26,
     "metadata": {},
     "output_type": "execute_result"
    },
    {
     "data": {
      "image/png": "[encoded data removed]",
      "text/plain": [
       "<Figure size 432x288 with 1 Axes>"
      ]
     },
     "metadata": {
      "needs_background": "light"
     },
     "output_type": "display_data"
    }
   ],
   "source": [
    "sns.boxplot(data=df,x='grade',y='int_rate')"
   ]
  },
  {
   "cell_type": "markdown",
   "metadata": {},
   "source": [
    "__We can observe that interest rate is increasing with grades i.e. Grade A  being minimum interest rate and Grade G being Maximum__"
   ]
  },
  {
   "cell_type": "code",
   "execution_count": 27,
   "metadata": {},
   "outputs": [
    {
     "data": {
      "text/plain": [
       "<matplotlib.axes._subplots.AxesSubplot at 0x2a404215b70>"
      ]
     },
     "execution_count": 27,
     "metadata": {},
     "output_type": "execute_result"
    },
    {
     "data": {
      "image/png": "[encoded data removed]",
      "text/plain": [
       "<Figure size 1080x504 with 1 Axes>"
      ]
     },
     "metadata": {
      "needs_background": "light"
     },
     "output_type": "display_data"
    }
   ],
   "source": [
    "plt.figure(figsize=(15,7))\n",
    "df.grade.value_counts().plot(kind='bar')"
   ]
  },
  {
   "cell_type": "markdown",
   "metadata": {},
   "source": [
    "__It appear Grade B & C are dominant ones'__\n"
   ]
  },
  {
   "cell_type": "markdown",
   "metadata": {},
   "source": [
    "## Loan Purpose"
   ]
  },
  {
   "cell_type": "code",
   "execution_count": 28,
   "metadata": {},
   "outputs": [
    {
     "data": {
      "text/plain": [
       "14"
      ]
     },
     "execution_count": 28,
     "metadata": {},
     "output_type": "execute_result"
    }
   ],
   "source": [
    "df.purpose.nunique()"
   ]
  },
  {
   "cell_type": "code",
   "execution_count": 29,
   "metadata": {},
   "outputs": [
    {
     "data": {
      "text/plain": [
       "debt_consolidation    505392\n",
       "credit_card           200144\n",
       "home_improvement       49956\n",
       "other                  40949\n",
       "major_purchase         16587\n",
       "small_business          9785\n",
       "car                     8593\n",
       "medical                 8193\n",
       "moving                  5160\n",
       "vacation                4542\n",
       "house                   3513\n",
       "wedding                 2280\n",
       "renewable_energy         549\n",
       "educational              326\n",
       "Name: purpose, dtype: int64"
      ]
     },
     "execution_count": 29,
     "metadata": {},
     "output_type": "execute_result"
    }
   ],
   "source": [
    "df.purpose.value_counts()"
   ]
  },
  {
   "cell_type": "code",
   "execution_count": 30,
   "metadata": {},
   "outputs": [
    {
     "data": {
      "text/plain": [
       "Text(0.5, 1.0, 'Purpose of Taking Loan')"
      ]
     },
     "execution_count": 30,
     "metadata": {},
     "output_type": "execute_result"
    },
    {
     "data": {
      "image/png": "[encoded data removed]",
      "text/plain": [
       "<Figure size 1080x504 with 1 Axes>"
      ]
     },
     "metadata": {
      "needs_background": "light"
     },
     "output_type": "display_data"
    }
   ],
   "source": [
    "plt.figure(figsize=(15,7))\n",
    "df.purpose.value_counts().plot(kind='bar').set_title('Purpose of Taking Loan')"
   ]
  },
  {
   "cell_type": "markdown",
   "metadata": {},
   "source": [
    "__It appears that most of the loans are for debt_consolidation & credit card__"
   ]
  },
  {
   "cell_type": "code",
   "execution_count": 100,
   "metadata": {},
   "outputs": [],
   "source": [
    "df['purpose'] = df['purpose'].map({'debt_consolidation':1, 'credit_card':2, \n",
    "                                       'home_improvement':3, 'other':4, 'major_purchase':5, \n",
    "                                       'small_business':6, 'car':7, 'medical':8,\n",
    "                                       'moving':9, 'vacation':10, 'house':11,'wedding':12,\n",
    "                                       'renewable_energy':13,'educational':14})"
   ]
  },
  {
   "cell_type": "code",
   "execution_count": null,
   "metadata": {},
   "outputs": [],
   "source": []
  },
  {
   "cell_type": "markdown",
   "metadata": {},
   "source": [
    "__Assigning to numerical values__"
   ]
  },
  {
   "cell_type": "code",
   "execution_count": 31,
   "metadata": {},
   "outputs": [
    {
     "data": {
      "text/plain": [
       "0       credit_card\n",
       "1               car\n",
       "2    small_business\n",
       "3             other\n",
       "4             other\n",
       "Name: purpose, dtype: category\n",
       "Categories (14, object): [car, credit_card, debt_consolidation, educational, ..., renewable_energy, small_business, vacation, wedding]"
      ]
     },
     "execution_count": 31,
     "metadata": {},
     "output_type": "execute_result"
    }
   ],
   "source": [
    "df['purpose'].head()"
   ]
  },
  {
   "cell_type": "markdown",
   "metadata": {},
   "source": [
    "### Issue Date"
   ]
  },
  {
   "cell_type": "code",
   "execution_count": 32,
   "metadata": {},
   "outputs": [
    {
     "data": {
      "text/plain": [
       "0    Dec-2011\n",
       "1    Dec-2011\n",
       "2    Dec-2011\n",
       "3    Dec-2011\n",
       "4    Dec-2011\n",
       "Name: issue_d, dtype: object"
      ]
     },
     "execution_count": 32,
     "metadata": {},
     "output_type": "execute_result"
    }
   ],
   "source": [
    "df.issue_d.head()"
   ]
  },
  {
   "cell_type": "code",
   "execution_count": 33,
   "metadata": {},
   "outputs": [],
   "source": [
    "df['Month']=df['issue_d'].transform(lambda x: x.split('-')[0])\n",
    "df['Year']=df['issue_d'].transform(lambda x: x.split('-')[1])"
   ]
  },
  {
   "cell_type": "code",
   "execution_count": 34,
   "metadata": {},
   "outputs": [],
   "source": [
    "df.drop(['issue_d'],axis =1, inplace=True)"
   ]
  },
  {
   "cell_type": "code",
   "execution_count": 38,
   "metadata": {},
   "outputs": [
    {
     "data": {
      "text/plain": [
       "<matplotlib.axes._subplots.AxesSubplot at 0x2a40252b208>"
      ]
     },
     "execution_count": 38,
     "metadata": {},
     "output_type": "execute_result"
    },
    {
     "data": {
      "image/png": "[encoded data removed]",
      "text/plain": [
       "<Figure size 1080x504 with 1 Axes>"
      ]
     },
     "metadata": {
      "needs_background": "light"
     },
     "output_type": "display_data"
    }
   ],
   "source": [
    "plt.figure(figsize = (15,7))\n",
    "sns.pointplot(data=df, x='Month', y='loan_amnt')"
   ]
  },
  {
   "cell_type": "markdown",
   "metadata": {},
   "source": [
    "\n",
    "__We can clearly see that there Loan application is highest in Staring Months of the Year including December__"
   ]
  },
  {
   "cell_type": "code",
   "execution_count": 37,
   "metadata": {},
   "outputs": [
    {
     "data": {
      "text/plain": [
       "0    2011\n",
       "1    2011\n",
       "2    2011\n",
       "3    2011\n",
       "4    2011\n",
       "Name: Year, dtype: object"
      ]
     },
     "execution_count": 37,
     "metadata": {},
     "output_type": "execute_result"
    }
   ],
   "source": [
    "df['Year'].head()"
   ]
  },
  {
   "cell_type": "code",
   "execution_count": 41,
   "metadata": {},
   "outputs": [
    {
     "data": {
      "text/plain": [
       "<matplotlib.axes._subplots.AxesSubplot at 0x2a402998358>"
      ]
     },
     "execution_count": 41,
     "metadata": {},
     "output_type": "execute_result"
    },
    {
     "data": {
      "image/png": "[encoded data removed]",
      "text/plain": [
       "<Figure size 864x360 with 1 Axes>"
      ]
     },
     "metadata": {
      "needs_background": "light"
     },
     "output_type": "display_data"
    }
   ],
   "source": [
    "plt.figure(figsize=(12,5))\n",
    "sns.countplot(data= df, x='Year')"
   ]
  },
  {
   "cell_type": "markdown",
   "metadata": {},
   "source": [
    "__We can also observe that no. of loan application rises over a period of years__"
   ]
  },
  {
   "cell_type": "code",
   "execution_count": null,
   "metadata": {},
   "outputs": [],
   "source": []
  },
  {
   "cell_type": "code",
   "execution_count": 42,
   "metadata": {},
   "outputs": [
    {
     "data": {
      "text/plain": [
       "<matplotlib.legend.Legend at 0x2a402efde48>"
      ]
     },
     "execution_count": 42,
     "metadata": {},
     "output_type": "execute_result"
    },
    {
     "data": {
      "image/png": "[encoded data removed]",
      "text/plain": [
       "<Figure size 1080x576 with 1 Axes>"
      ]
     },
     "metadata": {
      "needs_background": "light"
     },
     "output_type": "display_data"
    }
   ],
   "source": [
    "plt.figure(figsize=(15,8))\n",
    "\n",
    "sns.pointplot(data=df, x='Month', y='loan_amnt', hue='grade')\n",
    "plt.legend(bbox_to_anchor=(1, 1))"
   ]
  },
  {
   "cell_type": "code",
   "execution_count": null,
   "metadata": {},
   "outputs": [],
   "source": []
  },
  {
   "cell_type": "code",
   "execution_count": 45,
   "metadata": {},
   "outputs": [
    {
     "data": {
      "text/plain": [
       "<matplotlib.legend.Legend at 0x2a407b060f0>"
      ]
     },
     "execution_count": 45,
     "metadata": {},
     "output_type": "execute_result"
    },
    {
     "data": {
      "image/png": "[encoded data removed]",
      "text/plain": [
       "<Figure size 1080x576 with 1 Axes>"
      ]
     },
     "metadata": {
      "needs_background": "light"
     },
     "output_type": "display_data"
    }
   ],
   "source": [
    "plt.figure(figsize=(15,8))\n",
    "\n",
    "sns.pointplot(data=df, x='Year', y='loan_amnt', hue='term')\n",
    "plt.legend(bbox_to_anchor=(1, 1))"
   ]
  },
  {
   "cell_type": "markdown",
   "metadata": {},
   "source": [
    "__We can observe that people who taken the large loan have more term period.__"
   ]
  },
  {
   "cell_type": "code",
   "execution_count": 46,
   "metadata": {},
   "outputs": [],
   "source": [
    "df['Month'] = df['Month'].replace({'Jan':'01','Feb':'02','Mar':'03','Apr':'04','May':'05','Jun':'06',\n",
    "                                   'Jul':'07','Aug':'08','Sep':'09','Oct':'10','Nov':'11','Dec':'12'},regex = True)"
   ]
  },
  {
   "cell_type": "code",
   "execution_count": 47,
   "metadata": {},
   "outputs": [
    {
     "data": {
      "text/plain": [
       "0    2011\n",
       "1    2011\n",
       "2    2011\n",
       "3    2011\n",
       "4    2011\n",
       "Name: Year, dtype: object"
      ]
     },
     "execution_count": 47,
     "metadata": {},
     "output_type": "execute_result"
    }
   ],
   "source": [
    "df['Year'].head()"
   ]
  },
  {
   "cell_type": "code",
   "execution_count": 48,
   "metadata": {},
   "outputs": [],
   "source": [
    "df['new'] = df['Year'].map(str) + df['Month']"
   ]
  },
  {
   "cell_type": "code",
   "execution_count": 49,
   "metadata": {},
   "outputs": [],
   "source": [
    "df['new']= df.new.sort_values()"
   ]
  },
  {
   "cell_type": "code",
   "execution_count": 50,
   "metadata": {},
   "outputs": [
    {
     "data": {
      "text/plain": [
       "Index(['id', 'member_id', 'loan_amnt', 'funded_amnt', 'funded_amnt_inv',\n",
       "       'term', 'int_rate', 'installment', 'grade', 'sub_grade', 'emp_title',\n",
       "       'emp_length', 'home_ownership', 'annual_inc', 'verification_status',\n",
       "       'pymnt_plan', 'purpose', 'title', 'zip_code', 'addr_state', 'dti',\n",
       "       'delinq_2yrs', 'earliest_cr_line', 'inq_last_6mths', 'open_acc',\n",
       "       'pub_rec', 'revol_bal', 'revol_util', 'total_acc',\n",
       "       'initial_list_status', 'out_prncp', 'out_prncp_inv', 'total_pymnt',\n",
       "       'total_pymnt_inv', 'total_rec_prncp', 'total_rec_int',\n",
       "       'total_rec_late_fee', 'recoveries', 'collection_recovery_fee',\n",
       "       'last_pymnt_d', 'last_pymnt_amnt', 'next_pymnt_d', 'last_credit_pull_d',\n",
       "       'collections_12_mths_ex_med', 'policy_code', 'application_type',\n",
       "       'acc_now_delinq', 'tot_coll_amt', 'tot_cur_bal', 'total_rev_hi_lim',\n",
       "       'default_ind', 'Month', 'Year', 'new'],\n",
       "      dtype='object')"
      ]
     },
     "execution_count": 50,
     "metadata": {},
     "output_type": "execute_result"
    }
   ],
   "source": [
    "df.columns"
   ]
  },
  {
   "cell_type": "code",
   "execution_count": 51,
   "metadata": {},
   "outputs": [],
   "source": [
    "df.drop(['Month', 'Year'],axis=1, inplace= True)"
   ]
  },
  {
   "cell_type": "code",
   "execution_count": null,
   "metadata": {},
   "outputs": [],
   "source": []
  },
  {
   "cell_type": "code",
   "execution_count": 52,
   "metadata": {},
   "outputs": [
    {
     "data": {
      "text/plain": [
       "<matplotlib.axes._subplots.AxesSubplot at 0x2a43e0a2630>"
      ]
     },
     "execution_count": 52,
     "metadata": {},
     "output_type": "execute_result"
    },
    {
     "data": {
      "image/png": "[encoded data removed]",
      "text/plain": [
       "<Figure size 432x288 with 1 Axes>"
      ]
     },
     "metadata": {
      "needs_background": "light"
     },
     "output_type": "display_data"
    }
   ],
   "source": [
    "sns.countplot('initial_list_status',data=df,hue='default_ind')"
   ]
  },
  {
   "cell_type": "code",
   "execution_count": 53,
   "metadata": {},
   "outputs": [
    {
     "data": {
      "text/plain": [
       "Text(0.5, 1.0, 'Enquire in last 6 months vs Defalter')"
      ]
     },
     "execution_count": 53,
     "metadata": {},
     "output_type": "execute_result"
    },
    {
     "data": {
      "image/png": "[encoded data removed]",
      "text/plain": [
       "<Figure size 432x288 with 1 Axes>"
      ]
     },
     "metadata": {
      "needs_background": "light"
     },
     "output_type": "display_data"
    }
   ],
   "source": [
    "sns.boxplot(data=df,x= 'default_ind',y='inq_last_6mths').set_title('Enquire in last 6 months vs Defalter')"
   ]
  },
  {
   "cell_type": "code",
   "execution_count": 54,
   "metadata": {},
   "outputs": [
    {
     "data": {
      "text/plain": [
       "Text(0.5, 1.0, 'Loan amount vs Verification Status')"
      ]
     },
     "execution_count": 54,
     "metadata": {},
     "output_type": "execute_result"
    },
    {
     "data": {
      "image/png": "[encoded data removed]",
      "text/plain": [
       "<Figure size 432x288 with 1 Axes>"
      ]
     },
     "metadata": {
      "needs_background": "light"
     },
     "output_type": "display_data"
    }
   ],
   "source": [
    "sns.boxplot(data= df, x='verification_status', y='loan_amnt').set_title('Loan amount vs Verification Status')"
   ]
  },
  {
   "cell_type": "code",
   "execution_count": 55,
   "metadata": {},
   "outputs": [],
   "source": [
    "df['verification_status'] = df['verification_status'].map({'Source Verified':1,'Verified':2, 'Not Verified':3})"
   ]
  },
  {
   "cell_type": "code",
   "execution_count": 56,
   "metadata": {},
   "outputs": [
    {
     "data": {
      "text/plain": [
       "MORTGAGE    429106\n",
       "RENT        342535\n",
       "OWN          84136\n",
       "OTHER          144\n",
       "NONE            45\n",
       "ANY              3\n",
       "Name: home_ownership, dtype: int64"
      ]
     },
     "execution_count": 56,
     "metadata": {},
     "output_type": "execute_result"
    }
   ],
   "source": [
    "df.home_ownership.value_counts()"
   ]
  },
  {
   "cell_type": "code",
   "execution_count": 57,
   "metadata": {},
   "outputs": [
    {
     "data": {
      "text/plain": [
       "1    318178\n",
       "2    280049\n",
       "3    257742\n",
       "Name: verification_status, dtype: int64"
      ]
     },
     "execution_count": 57,
     "metadata": {},
     "output_type": "execute_result"
    }
   ],
   "source": [
    "df.verification_status.value_counts()"
   ]
  },
  {
   "cell_type": "code",
   "execution_count": 58,
   "metadata": {},
   "outputs": [],
   "source": [
    "df['home_ownership'] = np.where(df['home_ownership']=='NONE', 'OTHER', df['home_ownership'])\n",
    "df['home_ownership'] = np.where(df['home_ownership']=='ANY', 'OTHER', df['home_ownership'])"
   ]
  },
  {
   "cell_type": "code",
   "execution_count": 59,
   "metadata": {},
   "outputs": [
    {
     "data": {
      "text/plain": [
       "<matplotlib.axes._subplots.AxesSubplot at 0x2a4118ece80>"
      ]
     },
     "execution_count": 59,
     "metadata": {},
     "output_type": "execute_result"
    },
    {
     "data": {
      "image/png": "[encoded data removed]",
      "text/plain": [
       "<Figure size 432x288 with 1 Axes>"
      ]
     },
     "metadata": {
      "needs_background": "light"
     },
     "output_type": "display_data"
    }
   ],
   "source": [
    "sns.countplot('home_ownership',data=df)"
   ]
  },
  {
   "cell_type": "code",
   "execution_count": 60,
   "metadata": {},
   "outputs": [],
   "source": [
    "df['home_ownership'] = df['home_ownership'].map({'MORTGAGE':1,'RENT':2,'OWN':3,'OTHER':4})"
   ]
  },
  {
   "cell_type": "code",
   "execution_count": 61,
   "metadata": {},
   "outputs": [
    {
     "data": {
      "text/plain": [
       "0    2\n",
       "1    2\n",
       "2    2\n",
       "3    2\n",
       "4    2\n",
       "Name: home_ownership, dtype: int64"
      ]
     },
     "execution_count": 61,
     "metadata": {},
     "output_type": "execute_result"
    }
   ],
   "source": [
    "df['home_ownership'].head()"
   ]
  },
  {
   "cell_type": "code",
   "execution_count": 62,
   "metadata": {},
   "outputs": [
    {
     "data": {
      "text/plain": [
       "<matplotlib.axes._subplots.AxesSubplot at 0x2a413925c50>"
      ]
     },
     "execution_count": 62,
     "metadata": {},
     "output_type": "execute_result"
    },
    {
     "data": {
      "image/png": "[encoded data removed]",
      "text/plain": [
       "<Figure size 1080x504 with 1 Axes>"
      ]
     },
     "metadata": {
      "needs_background": "light"
     },
     "output_type": "display_data"
    }
   ],
   "source": [
    "plt.figure(figsize=(15,7))\n",
    "sns.countplot('emp_length',data=df)"
   ]
  },
  {
   "cell_type": "code",
   "execution_count": 63,
   "metadata": {},
   "outputs": [],
   "source": [
    "df['emp_length'] = df['emp_length'].map({'< 1 year':0, '1 year':1, '2 years':2,'3 years':3, '4 years':4, \n",
    "                                             '5 years':5,'6 years':6, '7 years':7, '8 years':8,\n",
    "                                             '9 years':9, '10+ years':10})"
   ]
  },
  {
   "cell_type": "code",
   "execution_count": 64,
   "metadata": {},
   "outputs": [
    {
     "data": {
      "text/plain": [
       "<matplotlib.axes._subplots.AxesSubplot at 0x2a4118f9f60>"
      ]
     },
     "execution_count": 64,
     "metadata": {},
     "output_type": "execute_result"
    },
    {
     "data": {
      "image/png": "[encoded data removed]",
      "text/plain": [
       "<Figure size 1080x360 with 1 Axes>"
      ]
     },
     "metadata": {
      "needs_background": "light"
     },
     "output_type": "display_data"
    }
   ],
   "source": [
    "plt.figure(figsize=(15,5))\n",
    "sns.countplot('emp_length',data=df)"
   ]
  },
  {
   "cell_type": "code",
   "execution_count": 65,
   "metadata": {},
   "outputs": [],
   "source": [
    "df=df.drop(['id','member_id','zip_code','application_type','policy_code','pymnt_plan','emp_title','acc_now_delinq','title','last_pymnt_d','next_pymnt_d','last_credit_pull_d','earliest_cr_line'],axis=1)"
   ]
  },
  {
   "cell_type": "markdown",
   "metadata": {},
   "source": [
    "__id, member_id, zip_code:__ They contains unique number\n",
    "\n",
    "__policy_code,pymnt_plan:__ They have same information in all observation\n",
    "\n",
    "__addr_state:__ This contains address code of the places\n",
    "\n",
    "__application_type:__ Mostly it contains single value\n",
    "\n",
    "__acc_now_delinq:__ It mostly contains single value 0 around 99%\n",
    "\n",
    "__next_pymnt_d,last_pymnt_d,last_credit_pull_d,earliest_cr_line:__ They both contains date\n",
    "\n",
    "__emp_title,title:__ They are the title of the employees so we have discarded it"
   ]
  },
  {
   "cell_type": "code",
   "execution_count": 66,
   "metadata": {},
   "outputs": [
    {
     "data": {
      "text/plain": [
       "<matplotlib.axes._subplots.AxesSubplot at 0x2a410f0ac50>"
      ]
     },
     "execution_count": 66,
     "metadata": {},
     "output_type": "execute_result"
    },
    {
     "data": {
      "image/png": "[encoded data removed]",
      "text/plain": [
       "<Figure size 1080x1080 with 2 Axes>"
      ]
     },
     "metadata": {
      "needs_background": "light"
     },
     "output_type": "display_data"
    }
   ],
   "source": [
    "plt.figure(figsize=(15,15))\n",
    "sns.heatmap(df.corr(),vmax=1, vmin=-1, center=0, linewidth=2, cmap='YlGnBu')"
   ]
  },
  {
   "cell_type": "code",
   "execution_count": null,
   "metadata": {},
   "outputs": [],
   "source": [
    "df.columns"
   ]
  },
  {
   "cell_type": "code",
   "execution_count": 104,
   "metadata": {},
   "outputs": [],
   "source": [
    "df3=df.drop(['funded_amnt','out_prncp_inv', 'installment','funded_amnt_inv','total_pymnt_inv', 'total_rec_prncp','total_rev_hi_lim','collection_recovery_fee'],\n",
    "          axis=1)"
   ]
  },
  {
   "cell_type": "code",
   "execution_count": 68,
   "metadata": {},
   "outputs": [
    {
     "data": {
      "text/plain": [
       "<matplotlib.axes._subplots.AxesSubplot at 0x2a41150d208>"
      ]
     },
     "execution_count": 68,
     "metadata": {},
     "output_type": "execute_result"
    },
    {
     "data": {
      "image/png": "[encoded data removed]",
      "text/plain": [
       "<Figure size 1080x1080 with 2 Axes>"
      ]
     },
     "metadata": {
      "needs_background": "light"
     },
     "output_type": "display_data"
    }
   ],
   "source": [
    "plt.figure(figsize=(15,15))\n",
    "sns.heatmap(df3.corr(),vmax=1, vmin=-1, center=0, linewidth=2, cmap='YlGnBu')"
   ]
  },
  {
   "cell_type": "code",
   "execution_count": null,
   "metadata": {
    "scrolled": true
   },
   "outputs": [],
   "source": []
  },
  {
   "cell_type": "code",
   "execution_count": 70,
   "metadata": {},
   "outputs": [
    {
     "data": {
      "text/plain": [
       "B    247998\n",
       "C    236855\n",
       "A    145665\n",
       "D    132802\n",
       "E     66448\n",
       "F     21328\n",
       "G      4873\n",
       "Name: grade, dtype: int64"
      ]
     },
     "execution_count": 70,
     "metadata": {},
     "output_type": "execute_result"
    }
   ],
   "source": [
    "df3['grade'].value_counts()"
   ]
  },
  {
   "cell_type": "code",
   "execution_count": 105,
   "metadata": {},
   "outputs": [],
   "source": [
    "df3['grade'] = df['grade'].map({'A':1,'B':2,'C':3,'D':4,'E':5,'F':6,'G':7})"
   ]
  },
  {
   "cell_type": "code",
   "execution_count": 106,
   "metadata": {},
   "outputs": [],
   "source": [
    "df3=df3.drop('sub_grade',axis=1)"
   ]
  },
  {
   "cell_type": "code",
   "execution_count": 107,
   "metadata": {},
   "outputs": [],
   "source": [
    "df3['term']= df3['term'].astype(object)"
   ]
  },
  {
   "cell_type": "code",
   "execution_count": 108,
   "metadata": {},
   "outputs": [],
   "source": [
    "df3['term'] = df3['term'].replace({'36 months':1,'60 months':2},regex = True)"
   ]
  },
  {
   "cell_type": "code",
   "execution_count": 109,
   "metadata": {},
   "outputs": [
    {
     "data": {
      "text/plain": [
       "1    600221\n",
       "2    255748\n",
       "Name: term, dtype: int64"
      ]
     },
     "execution_count": 109,
     "metadata": {},
     "output_type": "execute_result"
    }
   ],
   "source": [
    "df3['term'].value_counts()"
   ]
  },
  {
   "cell_type": "code",
   "execution_count": 110,
   "metadata": {},
   "outputs": [
    {
     "data": {
      "text/plain": [
       "0    2\n",
       "1    1\n",
       "2    3\n",
       "3    1\n",
       "4    1\n",
       "Name: verification_status, dtype: int64"
      ]
     },
     "execution_count": 110,
     "metadata": {},
     "output_type": "execute_result"
    }
   ],
   "source": [
    "df3['verification_status'].head()"
   ]
  },
  {
   "cell_type": "code",
   "execution_count": 111,
   "metadata": {},
   "outputs": [],
   "source": [
    "df3['initial_list_status'] = df3['initial_list_status'].map({'f':1,'w':2})"
   ]
  },
  {
   "cell_type": "code",
   "execution_count": 112,
   "metadata": {},
   "outputs": [],
   "source": [
    "df3.drop(['addr_state'],axis=1,inplace=True)"
   ]
  },
  {
   "cell_type": "markdown",
   "metadata": {},
   "source": [
    "## Dividing into Train and Test "
   ]
  },
  {
   "cell_type": "code",
   "execution_count": 113,
   "metadata": {},
   "outputs": [],
   "source": [
    "df3 = df3.set_index('new')"
   ]
  },
  {
   "cell_type": "code",
   "execution_count": 114,
   "metadata": {},
   "outputs": [],
   "source": [
    "df3=df3.sort_values('new')"
   ]
  },
  {
   "cell_type": "code",
   "execution_count": 115,
   "metadata": {},
   "outputs": [
    {
     "data": {
      "text/html": [
       "<div>\n",
       "<style scoped>\n",
       "    .dataframe tbody tr th:only-of-type {\n",
       "        vertical-align: middle;\n",
       "    }\n",
       "\n",
       "    .dataframe tbody tr th {\n",
       "        vertical-align: top;\n",
       "    }\n",
       "\n",
       "    .dataframe thead th {\n",
       "        text-align: right;\n",
       "    }\n",
       "</style>\n",
       "<table border=\"1\" class=\"dataframe\">\n",
       "  <thead>\n",
       "    <tr style=\"text-align: right;\">\n",
       "      <th></th>\n",
       "      <th>loan_amnt</th>\n",
       "      <th>term</th>\n",
       "      <th>int_rate</th>\n",
       "      <th>grade</th>\n",
       "      <th>emp_length</th>\n",
       "      <th>home_ownership</th>\n",
       "      <th>annual_inc</th>\n",
       "      <th>verification_status</th>\n",
       "      <th>purpose</th>\n",
       "      <th>dti</th>\n",
       "      <th>...</th>\n",
       "      <th>out_prncp</th>\n",
       "      <th>total_pymnt</th>\n",
       "      <th>total_rec_int</th>\n",
       "      <th>total_rec_late_fee</th>\n",
       "      <th>recoveries</th>\n",
       "      <th>last_pymnt_amnt</th>\n",
       "      <th>collections_12_mths_ex_med</th>\n",
       "      <th>tot_coll_amt</th>\n",
       "      <th>tot_cur_bal</th>\n",
       "      <th>default_ind</th>\n",
       "    </tr>\n",
       "    <tr>\n",
       "      <th>new</th>\n",
       "      <th></th>\n",
       "      <th></th>\n",
       "      <th></th>\n",
       "      <th></th>\n",
       "      <th></th>\n",
       "      <th></th>\n",
       "      <th></th>\n",
       "      <th></th>\n",
       "      <th></th>\n",
       "      <th></th>\n",
       "      <th></th>\n",
       "      <th></th>\n",
       "      <th></th>\n",
       "      <th></th>\n",
       "      <th></th>\n",
       "      <th></th>\n",
       "      <th></th>\n",
       "      <th></th>\n",
       "      <th></th>\n",
       "      <th></th>\n",
       "      <th></th>\n",
       "    </tr>\n",
       "  </thead>\n",
       "  <tbody>\n",
       "    <tr>\n",
       "      <th>200706</th>\n",
       "      <td>7500.0</td>\n",
       "      <td>1</td>\n",
       "      <td>13.75</td>\n",
       "      <td>5</td>\n",
       "      <td>0.0</td>\n",
       "      <td>3</td>\n",
       "      <td>22000.0</td>\n",
       "      <td>3</td>\n",
       "      <td>1</td>\n",
       "      <td>14.29</td>\n",
       "      <td>...</td>\n",
       "      <td>0.0</td>\n",
       "      <td>9194.98</td>\n",
       "      <td>1694.98</td>\n",
       "      <td>0.0</td>\n",
       "      <td>0.0</td>\n",
       "      <td>256.59</td>\n",
       "      <td>NaN</td>\n",
       "      <td>NaN</td>\n",
       "      <td>NaN</td>\n",
       "      <td>0</td>\n",
       "    </tr>\n",
       "    <tr>\n",
       "      <th>200707</th>\n",
       "      <td>5000.0</td>\n",
       "      <td>1</td>\n",
       "      <td>7.43</td>\n",
       "      <td>1</td>\n",
       "      <td>8.0</td>\n",
       "      <td>1</td>\n",
       "      <td>150000.0</td>\n",
       "      <td>3</td>\n",
       "      <td>3</td>\n",
       "      <td>0.00</td>\n",
       "      <td>...</td>\n",
       "      <td>0.0</td>\n",
       "      <td>5174.17</td>\n",
       "      <td>174.17</td>\n",
       "      <td>0.0</td>\n",
       "      <td>0.0</td>\n",
       "      <td>4397.47</td>\n",
       "      <td>NaN</td>\n",
       "      <td>NaN</td>\n",
       "      <td>NaN</td>\n",
       "      <td>0</td>\n",
       "    </tr>\n",
       "    <tr>\n",
       "      <th>200707</th>\n",
       "      <td>5750.0</td>\n",
       "      <td>1</td>\n",
       "      <td>7.43</td>\n",
       "      <td>1</td>\n",
       "      <td>10.0</td>\n",
       "      <td>1</td>\n",
       "      <td>125000.0</td>\n",
       "      <td>3</td>\n",
       "      <td>1</td>\n",
       "      <td>0.27</td>\n",
       "      <td>...</td>\n",
       "      <td>0.0</td>\n",
       "      <td>6421.50</td>\n",
       "      <td>671.50</td>\n",
       "      <td>0.0</td>\n",
       "      <td>0.0</td>\n",
       "      <td>4.74</td>\n",
       "      <td>NaN</td>\n",
       "      <td>NaN</td>\n",
       "      <td>NaN</td>\n",
       "      <td>0</td>\n",
       "    </tr>\n",
       "    <tr>\n",
       "      <th>200707</th>\n",
       "      <td>5000.0</td>\n",
       "      <td>1</td>\n",
       "      <td>7.43</td>\n",
       "      <td>1</td>\n",
       "      <td>6.0</td>\n",
       "      <td>2</td>\n",
       "      <td>40000.0</td>\n",
       "      <td>3</td>\n",
       "      <td>7</td>\n",
       "      <td>2.55</td>\n",
       "      <td>...</td>\n",
       "      <td>0.0</td>\n",
       "      <td>5593.39</td>\n",
       "      <td>593.39</td>\n",
       "      <td>0.0</td>\n",
       "      <td>0.0</td>\n",
       "      <td>158.65</td>\n",
       "      <td>NaN</td>\n",
       "      <td>NaN</td>\n",
       "      <td>NaN</td>\n",
       "      <td>0</td>\n",
       "    </tr>\n",
       "    <tr>\n",
       "      <th>200707</th>\n",
       "      <td>1200.0</td>\n",
       "      <td>1</td>\n",
       "      <td>11.54</td>\n",
       "      <td>3</td>\n",
       "      <td>0.0</td>\n",
       "      <td>2</td>\n",
       "      <td>20000.0</td>\n",
       "      <td>3</td>\n",
       "      <td>2</td>\n",
       "      <td>2.04</td>\n",
       "      <td>...</td>\n",
       "      <td>0.0</td>\n",
       "      <td>1425.37</td>\n",
       "      <td>225.37</td>\n",
       "      <td>0.0</td>\n",
       "      <td>0.0</td>\n",
       "      <td>39.45</td>\n",
       "      <td>NaN</td>\n",
       "      <td>NaN</td>\n",
       "      <td>NaN</td>\n",
       "      <td>0</td>\n",
       "    </tr>\n",
       "  </tbody>\n",
       "</table>\n",
       "<p>5 rows × 28 columns</p>\n",
       "</div>"
      ],
      "text/plain": [
       "        loan_amnt  term  int_rate  grade  emp_length  home_ownership  \\\n",
       "new                                                                    \n",
       "200706     7500.0     1     13.75      5         0.0               3   \n",
       "200707     5000.0     1      7.43      1         8.0               1   \n",
       "200707     5750.0     1      7.43      1        10.0               1   \n",
       "200707     5000.0     1      7.43      1         6.0               2   \n",
       "200707     1200.0     1     11.54      3         0.0               2   \n",
       "\n",
       "        annual_inc  verification_status  purpose    dti  ...  out_prncp  \\\n",
       "new                                                      ...              \n",
       "200706     22000.0                    3        1  14.29  ...        0.0   \n",
       "200707    150000.0                    3        3   0.00  ...        0.0   \n",
       "200707    125000.0                    3        1   0.27  ...        0.0   \n",
       "200707     40000.0                    3        7   2.55  ...        0.0   \n",
       "200707     20000.0                    3        2   2.04  ...        0.0   \n",
       "\n",
       "        total_pymnt  total_rec_int  total_rec_late_fee  recoveries  \\\n",
       "new                                                                  \n",
       "200706      9194.98        1694.98                 0.0         0.0   \n",
       "200707      5174.17         174.17                 0.0         0.0   \n",
       "200707      6421.50         671.50                 0.0         0.0   \n",
       "200707      5593.39         593.39                 0.0         0.0   \n",
       "200707      1425.37         225.37                 0.0         0.0   \n",
       "\n",
       "        last_pymnt_amnt  collections_12_mths_ex_med  tot_coll_amt  \\\n",
       "new                                                                 \n",
       "200706           256.59                         NaN           NaN   \n",
       "200707          4397.47                         NaN           NaN   \n",
       "200707             4.74                         NaN           NaN   \n",
       "200707           158.65                         NaN           NaN   \n",
       "200707            39.45                         NaN           NaN   \n",
       "\n",
       "        tot_cur_bal  default_ind  \n",
       "new                               \n",
       "200706          NaN            0  \n",
       "200707          NaN            0  \n",
       "200707          NaN            0  \n",
       "200707          NaN            0  \n",
       "200707          NaN            0  \n",
       "\n",
       "[5 rows x 28 columns]"
      ]
     },
     "execution_count": 115,
     "metadata": {},
     "output_type": "execute_result"
    }
   ],
   "source": [
    "df3.head()\n"
   ]
  },
  {
   "cell_type": "markdown",
   "metadata": {},
   "source": [
    "#### We have taken Training data from June 2007 to May 2015 rest are Test Data"
   ]
  },
  {
   "cell_type": "code",
   "execution_count": 116,
   "metadata": {},
   "outputs": [],
   "source": [
    "train = df3.loc['200706':'201505',:]\n",
    "test = df3.loc['201506':'201512',:]"
   ]
  },
  {
   "cell_type": "markdown",
   "metadata": {},
   "source": [
    "## Missing Value Treatment"
   ]
  },
  {
   "cell_type": "code",
   "execution_count": 117,
   "metadata": {},
   "outputs": [
    {
     "data": {
      "text/plain": [
       "loan_amnt                         0\n",
       "term                              0\n",
       "int_rate                          0\n",
       "grade                             0\n",
       "emp_length                    43061\n",
       "home_ownership                    0\n",
       "annual_inc                        0\n",
       "verification_status               0\n",
       "purpose                           0\n",
       "dti                               0\n",
       "delinq_2yrs                       0\n",
       "inq_last_6mths                    0\n",
       "open_acc                          0\n",
       "pub_rec                           0\n",
       "revol_bal                         0\n",
       "revol_util                      446\n",
       "total_acc                         0\n",
       "initial_list_status               0\n",
       "out_prncp                         0\n",
       "total_pymnt                       0\n",
       "total_rec_int                     0\n",
       "total_rec_late_fee                0\n",
       "recoveries                        0\n",
       "last_pymnt_amnt                   0\n",
       "collections_12_mths_ex_med       56\n",
       "tot_coll_amt                  67313\n",
       "tot_cur_bal                   67313\n",
       "default_ind                       0\n",
       "dtype: int64"
      ]
     },
     "execution_count": 117,
     "metadata": {},
     "output_type": "execute_result"
    }
   ],
   "source": [
    "df3.isna().sum()"
   ]
  },
  {
   "cell_type": "markdown",
   "metadata": {},
   "source": [
    "#### Numerical Column missing value treatment"
   ]
  },
  {
   "cell_type": "code",
   "execution_count": 118,
   "metadata": {},
   "outputs": [],
   "source": [
    "## Tot_cur_bal\n",
    "\n",
    "train['tot_cur_bal'].fillna(int(train['tot_cur_bal'].mean()), inplace=True)\n",
    "test['tot_cur_bal'].fillna(int(test['tot_cur_bal'].mean()), inplace=True)"
   ]
  },
  {
   "cell_type": "code",
   "execution_count": 119,
   "metadata": {},
   "outputs": [],
   "source": [
    "## Tot_coll_amt\n",
    "\n",
    "train['tot_coll_amt'].fillna(int(train['tot_coll_amt'].mean()), inplace=True)\n",
    "test['tot_coll_amt'].fillna(int(test['tot_coll_amt'].mean()), inplace=True)"
   ]
  },
  {
   "cell_type": "code",
   "execution_count": 120,
   "metadata": {},
   "outputs": [],
   "source": [
    "## revol_util\n",
    "train['revol_util'].fillna(int(train['revol_util'].mean()), inplace=True)\n",
    "test['revol_util'].fillna(int(test['revol_util'].mean()), inplace=True)\n"
   ]
  },
  {
   "cell_type": "markdown",
   "metadata": {},
   "source": [
    "#### Categorical Missing Values Treatment"
   ]
  },
  {
   "cell_type": "code",
   "execution_count": null,
   "metadata": {},
   "outputs": [],
   "source": []
  },
  {
   "cell_type": "code",
   "execution_count": 121,
   "metadata": {},
   "outputs": [],
   "source": [
    "## collections_12_mths_ex_med\n",
    "train['collections_12_mths_ex_med'].fillna(train['collections_12_mths_ex_med'].mode()[0],inplace=True)\n",
    "test['collections_12_mths_ex_med'].fillna(test['collections_12_mths_ex_med'].mode()[0],inplace=True)"
   ]
  },
  {
   "cell_type": "code",
   "execution_count": 122,
   "metadata": {},
   "outputs": [],
   "source": [
    "## emp_length\n",
    "train['emp_length'].fillna(train['emp_length'].mode()[0],inplace=True)\n",
    "test['emp_length'].fillna(test['emp_length'].mode()[0],inplace=True)"
   ]
  },
  {
   "cell_type": "code",
   "execution_count": 123,
   "metadata": {},
   "outputs": [
    {
     "data": {
      "text/plain": [
       "loan_amnt                     0\n",
       "term                          0\n",
       "int_rate                      0\n",
       "grade                         0\n",
       "emp_length                    0\n",
       "home_ownership                0\n",
       "annual_inc                    0\n",
       "verification_status           0\n",
       "purpose                       0\n",
       "dti                           0\n",
       "delinq_2yrs                   0\n",
       "inq_last_6mths                0\n",
       "open_acc                      0\n",
       "pub_rec                       0\n",
       "revol_bal                     0\n",
       "revol_util                    0\n",
       "total_acc                     0\n",
       "initial_list_status           0\n",
       "out_prncp                     0\n",
       "total_pymnt                   0\n",
       "total_rec_int                 0\n",
       "total_rec_late_fee            0\n",
       "recoveries                    0\n",
       "last_pymnt_amnt               0\n",
       "collections_12_mths_ex_med    0\n",
       "tot_coll_amt                  0\n",
       "tot_cur_bal                   0\n",
       "default_ind                   0\n",
       "dtype: int64"
      ]
     },
     "execution_count": 123,
     "metadata": {},
     "output_type": "execute_result"
    }
   ],
   "source": [
    "test.isnull().sum()"
   ]
  },
  {
   "cell_type": "code",
   "execution_count": null,
   "metadata": {},
   "outputs": [],
   "source": []
  },
  {
   "cell_type": "markdown",
   "metadata": {},
   "source": [
    "__Checking if any categorical variable is left or not before scaling the data__ "
   ]
  },
  {
   "cell_type": "code",
   "execution_count": 124,
   "metadata": {},
   "outputs": [],
   "source": [
    "x_train= train.drop(['default_ind'],axis=1)\n",
    "y_train= train['default_ind']\n",
    "x_test= test.drop(['default_ind'],axis=1)\n",
    "y_test= test['default_ind']"
   ]
  },
  {
   "cell_type": "code",
   "execution_count": 125,
   "metadata": {},
   "outputs": [
    {
     "data": {
      "text/plain": [
       "((598978, 27), (598978,), (256991, 27), (256991,))"
      ]
     },
     "execution_count": 125,
     "metadata": {},
     "output_type": "execute_result"
    }
   ],
   "source": [
    "x_train.shape, y_train.shape, x_test.shape, y_test.shape"
   ]
  },
  {
   "cell_type": "code",
   "execution_count": 126,
   "metadata": {},
   "outputs": [
    {
     "data": {
      "text/html": [
       "<div>\n",
       "<style scoped>\n",
       "    .dataframe tbody tr th:only-of-type {\n",
       "        vertical-align: middle;\n",
       "    }\n",
       "\n",
       "    .dataframe tbody tr th {\n",
       "        vertical-align: top;\n",
       "    }\n",
       "\n",
       "    .dataframe thead th {\n",
       "        text-align: right;\n",
       "    }\n",
       "</style>\n",
       "<table border=\"1\" class=\"dataframe\">\n",
       "  <thead>\n",
       "    <tr style=\"text-align: right;\">\n",
       "      <th></th>\n",
       "      <th>loan_amnt</th>\n",
       "      <th>term</th>\n",
       "      <th>int_rate</th>\n",
       "      <th>grade</th>\n",
       "      <th>emp_length</th>\n",
       "      <th>home_ownership</th>\n",
       "      <th>annual_inc</th>\n",
       "      <th>verification_status</th>\n",
       "      <th>purpose</th>\n",
       "      <th>dti</th>\n",
       "      <th>...</th>\n",
       "      <th>initial_list_status</th>\n",
       "      <th>out_prncp</th>\n",
       "      <th>total_pymnt</th>\n",
       "      <th>total_rec_int</th>\n",
       "      <th>total_rec_late_fee</th>\n",
       "      <th>recoveries</th>\n",
       "      <th>last_pymnt_amnt</th>\n",
       "      <th>collections_12_mths_ex_med</th>\n",
       "      <th>tot_coll_amt</th>\n",
       "      <th>tot_cur_bal</th>\n",
       "    </tr>\n",
       "    <tr>\n",
       "      <th>new</th>\n",
       "      <th></th>\n",
       "      <th></th>\n",
       "      <th></th>\n",
       "      <th></th>\n",
       "      <th></th>\n",
       "      <th></th>\n",
       "      <th></th>\n",
       "      <th></th>\n",
       "      <th></th>\n",
       "      <th></th>\n",
       "      <th></th>\n",
       "      <th></th>\n",
       "      <th></th>\n",
       "      <th></th>\n",
       "      <th></th>\n",
       "      <th></th>\n",
       "      <th></th>\n",
       "      <th></th>\n",
       "      <th></th>\n",
       "      <th></th>\n",
       "      <th></th>\n",
       "    </tr>\n",
       "  </thead>\n",
       "  <tbody>\n",
       "    <tr>\n",
       "      <th>200706</th>\n",
       "      <td>7500.0</td>\n",
       "      <td>1</td>\n",
       "      <td>13.75</td>\n",
       "      <td>5</td>\n",
       "      <td>0.0</td>\n",
       "      <td>3</td>\n",
       "      <td>22000.0</td>\n",
       "      <td>3</td>\n",
       "      <td>1</td>\n",
       "      <td>14.29</td>\n",
       "      <td>...</td>\n",
       "      <td>1</td>\n",
       "      <td>0.0</td>\n",
       "      <td>9194.98</td>\n",
       "      <td>1694.98</td>\n",
       "      <td>0.0</td>\n",
       "      <td>0.0</td>\n",
       "      <td>256.59</td>\n",
       "      <td>0.0</td>\n",
       "      <td>208.0</td>\n",
       "      <td>138990.0</td>\n",
       "    </tr>\n",
       "    <tr>\n",
       "      <th>200707</th>\n",
       "      <td>5000.0</td>\n",
       "      <td>1</td>\n",
       "      <td>7.43</td>\n",
       "      <td>1</td>\n",
       "      <td>8.0</td>\n",
       "      <td>1</td>\n",
       "      <td>150000.0</td>\n",
       "      <td>3</td>\n",
       "      <td>3</td>\n",
       "      <td>0.00</td>\n",
       "      <td>...</td>\n",
       "      <td>1</td>\n",
       "      <td>0.0</td>\n",
       "      <td>5174.17</td>\n",
       "      <td>174.17</td>\n",
       "      <td>0.0</td>\n",
       "      <td>0.0</td>\n",
       "      <td>4397.47</td>\n",
       "      <td>0.0</td>\n",
       "      <td>208.0</td>\n",
       "      <td>138990.0</td>\n",
       "    </tr>\n",
       "    <tr>\n",
       "      <th>200707</th>\n",
       "      <td>5750.0</td>\n",
       "      <td>1</td>\n",
       "      <td>7.43</td>\n",
       "      <td>1</td>\n",
       "      <td>10.0</td>\n",
       "      <td>1</td>\n",
       "      <td>125000.0</td>\n",
       "      <td>3</td>\n",
       "      <td>1</td>\n",
       "      <td>0.27</td>\n",
       "      <td>...</td>\n",
       "      <td>1</td>\n",
       "      <td>0.0</td>\n",
       "      <td>6421.50</td>\n",
       "      <td>671.50</td>\n",
       "      <td>0.0</td>\n",
       "      <td>0.0</td>\n",
       "      <td>4.74</td>\n",
       "      <td>0.0</td>\n",
       "      <td>208.0</td>\n",
       "      <td>138990.0</td>\n",
       "    </tr>\n",
       "    <tr>\n",
       "      <th>200707</th>\n",
       "      <td>5000.0</td>\n",
       "      <td>1</td>\n",
       "      <td>7.43</td>\n",
       "      <td>1</td>\n",
       "      <td>6.0</td>\n",
       "      <td>2</td>\n",
       "      <td>40000.0</td>\n",
       "      <td>3</td>\n",
       "      <td>7</td>\n",
       "      <td>2.55</td>\n",
       "      <td>...</td>\n",
       "      <td>1</td>\n",
       "      <td>0.0</td>\n",
       "      <td>5593.39</td>\n",
       "      <td>593.39</td>\n",
       "      <td>0.0</td>\n",
       "      <td>0.0</td>\n",
       "      <td>158.65</td>\n",
       "      <td>0.0</td>\n",
       "      <td>208.0</td>\n",
       "      <td>138990.0</td>\n",
       "    </tr>\n",
       "    <tr>\n",
       "      <th>200707</th>\n",
       "      <td>1200.0</td>\n",
       "      <td>1</td>\n",
       "      <td>11.54</td>\n",
       "      <td>3</td>\n",
       "      <td>0.0</td>\n",
       "      <td>2</td>\n",
       "      <td>20000.0</td>\n",
       "      <td>3</td>\n",
       "      <td>2</td>\n",
       "      <td>2.04</td>\n",
       "      <td>...</td>\n",
       "      <td>1</td>\n",
       "      <td>0.0</td>\n",
       "      <td>1425.37</td>\n",
       "      <td>225.37</td>\n",
       "      <td>0.0</td>\n",
       "      <td>0.0</td>\n",
       "      <td>39.45</td>\n",
       "      <td>0.0</td>\n",
       "      <td>208.0</td>\n",
       "      <td>138990.0</td>\n",
       "    </tr>\n",
       "  </tbody>\n",
       "</table>\n",
       "<p>5 rows × 27 columns</p>\n",
       "</div>"
      ],
      "text/plain": [
       "        loan_amnt  term  int_rate  grade  emp_length  home_ownership  \\\n",
       "new                                                                    \n",
       "200706     7500.0     1     13.75      5         0.0               3   \n",
       "200707     5000.0     1      7.43      1         8.0               1   \n",
       "200707     5750.0     1      7.43      1        10.0               1   \n",
       "200707     5000.0     1      7.43      1         6.0               2   \n",
       "200707     1200.0     1     11.54      3         0.0               2   \n",
       "\n",
       "        annual_inc  verification_status  purpose    dti  ...  \\\n",
       "new                                                      ...   \n",
       "200706     22000.0                    3        1  14.29  ...   \n",
       "200707    150000.0                    3        3   0.00  ...   \n",
       "200707    125000.0                    3        1   0.27  ...   \n",
       "200707     40000.0                    3        7   2.55  ...   \n",
       "200707     20000.0                    3        2   2.04  ...   \n",
       "\n",
       "        initial_list_status  out_prncp  total_pymnt  total_rec_int  \\\n",
       "new                                                                  \n",
       "200706                    1        0.0      9194.98        1694.98   \n",
       "200707                    1        0.0      5174.17         174.17   \n",
       "200707                    1        0.0      6421.50         671.50   \n",
       "200707                    1        0.0      5593.39         593.39   \n",
       "200707                    1        0.0      1425.37         225.37   \n",
       "\n",
       "        total_rec_late_fee  recoveries  last_pymnt_amnt  \\\n",
       "new                                                       \n",
       "200706                 0.0         0.0           256.59   \n",
       "200707                 0.0         0.0          4397.47   \n",
       "200707                 0.0         0.0             4.74   \n",
       "200707                 0.0         0.0           158.65   \n",
       "200707                 0.0         0.0            39.45   \n",
       "\n",
       "        collections_12_mths_ex_med  tot_coll_amt  tot_cur_bal  \n",
       "new                                                            \n",
       "200706                         0.0         208.0     138990.0  \n",
       "200707                         0.0         208.0     138990.0  \n",
       "200707                         0.0         208.0     138990.0  \n",
       "200707                         0.0         208.0     138990.0  \n",
       "200707                         0.0         208.0     138990.0  \n",
       "\n",
       "[5 rows x 27 columns]"
      ]
     },
     "execution_count": 126,
     "metadata": {},
     "output_type": "execute_result"
    }
   ],
   "source": [
    "x_train.head()"
   ]
  },
  {
   "cell_type": "markdown",
   "metadata": {},
   "source": [
    "## Scaling of Data"
   ]
  },
  {
   "cell_type": "code",
   "execution_count": 97,
   "metadata": {},
   "outputs": [],
   "source": [
    "from sklearn.preprocessing import StandardScaler\n",
    "scaler= StandardScaler()"
   ]
  },
  {
   "cell_type": "code",
   "execution_count": 98,
   "metadata": {},
   "outputs": [],
   "source": [
    "x_cols=['loan_amnt', 'term', 'int_rate', 'grade', 'emp_length',\n",
    "       'home_ownership', 'annual_inc', 'verification_status', 'purpose', 'dti',\n",
    "       'delinq_2yrs', 'inq_last_6mths', 'open_acc', 'pub_rec', 'revol_bal',\n",
    "       'revol_util', 'total_acc', 'initial_list_status', 'out_prncp',\n",
    "       'total_pymnt', 'total_rec_int', 'total_rec_late_fee', 'recoveries',\n",
    "       'last_pymnt_amnt', 'collections_12_mths_ex_med', 'tot_coll_amt',\n",
    "       'tot_cur_bal']"
   ]
  },
  {
   "cell_type": "code",
   "execution_count": 127,
   "metadata": {},
   "outputs": [],
   "source": [
    "xtrain= pd.DataFrame(scaler.fit_transform(x_train.values),columns=x_cols)\n",
    "xtest= pd.DataFrame(scaler.fit_transform(x_test.values),columns=x_cols)"
   ]
  },
  {
   "cell_type": "code",
   "execution_count": 128,
   "metadata": {},
   "outputs": [
    {
     "data": {
      "text/html": [
       "<div>\n",
       "<style scoped>\n",
       "    .dataframe tbody tr th:only-of-type {\n",
       "        vertical-align: middle;\n",
       "    }\n",
       "\n",
       "    .dataframe tbody tr th {\n",
       "        vertical-align: top;\n",
       "    }\n",
       "\n",
       "    .dataframe thead th {\n",
       "        text-align: right;\n",
       "    }\n",
       "</style>\n",
       "<table border=\"1\" class=\"dataframe\">\n",
       "  <thead>\n",
       "    <tr style=\"text-align: right;\">\n",
       "      <th></th>\n",
       "      <th>loan_amnt</th>\n",
       "      <th>term</th>\n",
       "      <th>int_rate</th>\n",
       "      <th>grade</th>\n",
       "      <th>emp_length</th>\n",
       "      <th>home_ownership</th>\n",
       "      <th>annual_inc</th>\n",
       "      <th>verification_status</th>\n",
       "      <th>purpose</th>\n",
       "      <th>dti</th>\n",
       "      <th>...</th>\n",
       "      <th>initial_list_status</th>\n",
       "      <th>out_prncp</th>\n",
       "      <th>total_pymnt</th>\n",
       "      <th>total_rec_int</th>\n",
       "      <th>total_rec_late_fee</th>\n",
       "      <th>recoveries</th>\n",
       "      <th>last_pymnt_amnt</th>\n",
       "      <th>collections_12_mths_ex_med</th>\n",
       "      <th>tot_coll_amt</th>\n",
       "      <th>tot_cur_bal</th>\n",
       "    </tr>\n",
       "  </thead>\n",
       "  <tbody>\n",
       "    <tr>\n",
       "      <th>0</th>\n",
       "      <td>-0.844559</td>\n",
       "      <td>-0.634014</td>\n",
       "      <td>0.052412</td>\n",
       "      <td>1.682281</td>\n",
       "      <td>-1.698028</td>\n",
       "      <td>2.150909</td>\n",
       "      <td>-0.915633</td>\n",
       "      <td>1.286434</td>\n",
       "      <td>-0.521055</td>\n",
       "      <td>-0.414882</td>\n",
       "      <td>...</td>\n",
       "      <td>-0.809528</td>\n",
       "      <td>-0.811282</td>\n",
       "      <td>-0.108522</td>\n",
       "      <td>-0.255238</td>\n",
       "      <td>-0.103534</td>\n",
       "      <td>-0.136873</td>\n",
       "      <td>-0.474069</td>\n",
       "      <td>-0.09384</td>\n",
       "      <td>-0.000069</td>\n",
       "      <td>-0.000003</td>\n",
       "    </tr>\n",
       "    <tr>\n",
       "      <th>1</th>\n",
       "      <td>-1.144446</td>\n",
       "      <td>-0.634014</td>\n",
       "      <td>-1.393496</td>\n",
       "      <td>-1.365338</td>\n",
       "      <td>0.492187</td>\n",
       "      <td>-0.900607</td>\n",
       "      <td>1.339413</td>\n",
       "      <td>1.286434</td>\n",
       "      <td>0.567029</td>\n",
       "      <td>-2.185476</td>\n",
       "      <td>...</td>\n",
       "      <td>-0.809528</td>\n",
       "      <td>-0.811282</td>\n",
       "      <td>-0.605437</td>\n",
       "      <td>-0.924911</td>\n",
       "      <td>-0.103534</td>\n",
       "      <td>-0.136873</td>\n",
       "      <td>0.292991</td>\n",
       "      <td>-0.09384</td>\n",
       "      <td>-0.000069</td>\n",
       "      <td>-0.000003</td>\n",
       "    </tr>\n",
       "    <tr>\n",
       "      <th>2</th>\n",
       "      <td>-1.054480</td>\n",
       "      <td>-0.634014</td>\n",
       "      <td>-1.393496</td>\n",
       "      <td>-1.365338</td>\n",
       "      <td>1.039741</td>\n",
       "      <td>-0.900607</td>\n",
       "      <td>0.898974</td>\n",
       "      <td>1.286434</td>\n",
       "      <td>-0.521055</td>\n",
       "      <td>-2.152022</td>\n",
       "      <td>...</td>\n",
       "      <td>-0.809528</td>\n",
       "      <td>-0.811282</td>\n",
       "      <td>-0.451285</td>\n",
       "      <td>-0.705917</td>\n",
       "      <td>-0.103534</td>\n",
       "      <td>-0.136873</td>\n",
       "      <td>-0.520722</td>\n",
       "      <td>-0.09384</td>\n",
       "      <td>-0.000069</td>\n",
       "      <td>-0.000003</td>\n",
       "    </tr>\n",
       "    <tr>\n",
       "      <th>3</th>\n",
       "      <td>-1.144446</td>\n",
       "      <td>-0.634014</td>\n",
       "      <td>-1.393496</td>\n",
       "      <td>-1.365338</td>\n",
       "      <td>-0.055367</td>\n",
       "      <td>0.625151</td>\n",
       "      <td>-0.598518</td>\n",
       "      <td>1.286434</td>\n",
       "      <td>2.743197</td>\n",
       "      <td>-1.869520</td>\n",
       "      <td>...</td>\n",
       "      <td>-0.809528</td>\n",
       "      <td>-0.811282</td>\n",
       "      <td>-0.553627</td>\n",
       "      <td>-0.740312</td>\n",
       "      <td>-0.103534</td>\n",
       "      <td>-0.136873</td>\n",
       "      <td>-0.492212</td>\n",
       "      <td>-0.09384</td>\n",
       "      <td>-0.000069</td>\n",
       "      <td>-0.000003</td>\n",
       "    </tr>\n",
       "    <tr>\n",
       "      <th>4</th>\n",
       "      <td>-1.600275</td>\n",
       "      <td>-0.634014</td>\n",
       "      <td>-0.453198</td>\n",
       "      <td>0.158472</td>\n",
       "      <td>-1.698028</td>\n",
       "      <td>0.625151</td>\n",
       "      <td>-0.950869</td>\n",
       "      <td>1.286434</td>\n",
       "      <td>0.022987</td>\n",
       "      <td>-1.932711</td>\n",
       "      <td>...</td>\n",
       "      <td>-0.809528</td>\n",
       "      <td>-0.811282</td>\n",
       "      <td>-1.068736</td>\n",
       "      <td>-0.902366</td>\n",
       "      <td>-0.103534</td>\n",
       "      <td>-0.136873</td>\n",
       "      <td>-0.514292</td>\n",
       "      <td>-0.09384</td>\n",
       "      <td>-0.000069</td>\n",
       "      <td>-0.000003</td>\n",
       "    </tr>\n",
       "  </tbody>\n",
       "</table>\n",
       "<p>5 rows × 27 columns</p>\n",
       "</div>"
      ],
      "text/plain": [
       "   loan_amnt      term  int_rate     grade  emp_length  home_ownership  \\\n",
       "0  -0.844559 -0.634014  0.052412  1.682281   -1.698028        2.150909   \n",
       "1  -1.144446 -0.634014 -1.393496 -1.365338    0.492187       -0.900607   \n",
       "2  -1.054480 -0.634014 -1.393496 -1.365338    1.039741       -0.900607   \n",
       "3  -1.144446 -0.634014 -1.393496 -1.365338   -0.055367        0.625151   \n",
       "4  -1.600275 -0.634014 -0.453198  0.158472   -1.698028        0.625151   \n",
       "\n",
       "   annual_inc  verification_status   purpose       dti  ...  \\\n",
       "0   -0.915633             1.286434 -0.521055 -0.414882  ...   \n",
       "1    1.339413             1.286434  0.567029 -2.185476  ...   \n",
       "2    0.898974             1.286434 -0.521055 -2.152022  ...   \n",
       "3   -0.598518             1.286434  2.743197 -1.869520  ...   \n",
       "4   -0.950869             1.286434  0.022987 -1.932711  ...   \n",
       "\n",
       "   initial_list_status  out_prncp  total_pymnt  total_rec_int  \\\n",
       "0            -0.809528  -0.811282    -0.108522      -0.255238   \n",
       "1            -0.809528  -0.811282    -0.605437      -0.924911   \n",
       "2            -0.809528  -0.811282    -0.451285      -0.705917   \n",
       "3            -0.809528  -0.811282    -0.553627      -0.740312   \n",
       "4            -0.809528  -0.811282    -1.068736      -0.902366   \n",
       "\n",
       "   total_rec_late_fee  recoveries  last_pymnt_amnt  \\\n",
       "0           -0.103534   -0.136873        -0.474069   \n",
       "1           -0.103534   -0.136873         0.292991   \n",
       "2           -0.103534   -0.136873        -0.520722   \n",
       "3           -0.103534   -0.136873        -0.492212   \n",
       "4           -0.103534   -0.136873        -0.514292   \n",
       "\n",
       "   collections_12_mths_ex_med  tot_coll_amt  tot_cur_bal  \n",
       "0                    -0.09384     -0.000069    -0.000003  \n",
       "1                    -0.09384     -0.000069    -0.000003  \n",
       "2                    -0.09384     -0.000069    -0.000003  \n",
       "3                    -0.09384     -0.000069    -0.000003  \n",
       "4                    -0.09384     -0.000069    -0.000003  \n",
       "\n",
       "[5 rows x 27 columns]"
      ]
     },
     "execution_count": 128,
     "metadata": {},
     "output_type": "execute_result"
    }
   ],
   "source": [
    "xtrain.head()"
   ]
  },
  {
   "cell_type": "code",
   "execution_count": 129,
   "metadata": {},
   "outputs": [
    {
     "data": {
      "text/html": [
       "<div>\n",
       "<style scoped>\n",
       "    .dataframe tbody tr th:only-of-type {\n",
       "        vertical-align: middle;\n",
       "    }\n",
       "\n",
       "    .dataframe tbody tr th {\n",
       "        vertical-align: top;\n",
       "    }\n",
       "\n",
       "    .dataframe thead th {\n",
       "        text-align: right;\n",
       "    }\n",
       "</style>\n",
       "<table border=\"1\" class=\"dataframe\">\n",
       "  <thead>\n",
       "    <tr style=\"text-align: right;\">\n",
       "      <th></th>\n",
       "      <th>loan_amnt</th>\n",
       "      <th>term</th>\n",
       "      <th>int_rate</th>\n",
       "      <th>grade</th>\n",
       "      <th>emp_length</th>\n",
       "      <th>home_ownership</th>\n",
       "      <th>annual_inc</th>\n",
       "      <th>verification_status</th>\n",
       "      <th>purpose</th>\n",
       "      <th>dti</th>\n",
       "      <th>...</th>\n",
       "      <th>initial_list_status</th>\n",
       "      <th>out_prncp</th>\n",
       "      <th>total_pymnt</th>\n",
       "      <th>total_rec_int</th>\n",
       "      <th>total_rec_late_fee</th>\n",
       "      <th>recoveries</th>\n",
       "      <th>last_pymnt_amnt</th>\n",
       "      <th>collections_12_mths_ex_med</th>\n",
       "      <th>tot_coll_amt</th>\n",
       "      <th>tot_cur_bal</th>\n",
       "    </tr>\n",
       "  </thead>\n",
       "  <tbody>\n",
       "    <tr>\n",
       "      <th>0</th>\n",
       "      <td>2.296958</td>\n",
       "      <td>-0.696887</td>\n",
       "      <td>-0.763503</td>\n",
       "      <td>-0.579417</td>\n",
       "      <td>-1.411906</td>\n",
       "      <td>-0.906737</td>\n",
       "      <td>0.663111</td>\n",
       "      <td>0.162332</td>\n",
       "      <td>-0.543741</td>\n",
       "      <td>0.250665</td>\n",
       "      <td>...</td>\n",
       "      <td>0.676633</td>\n",
       "      <td>1.804893</td>\n",
       "      <td>1.799937</td>\n",
       "      <td>2.080642</td>\n",
       "      <td>-0.035273</td>\n",
       "      <td>-0.001973</td>\n",
       "      <td>0.092315</td>\n",
       "      <td>-0.131371</td>\n",
       "      <td>-0.118501</td>\n",
       "      <td>0.548148</td>\n",
       "    </tr>\n",
       "    <tr>\n",
       "      <th>1</th>\n",
       "      <td>-0.432428</td>\n",
       "      <td>1.434953</td>\n",
       "      <td>-0.763503</td>\n",
       "      <td>-0.579417</td>\n",
       "      <td>1.003884</td>\n",
       "      <td>0.569729</td>\n",
       "      <td>-0.045980</td>\n",
       "      <td>-1.045166</td>\n",
       "      <td>-0.543741</td>\n",
       "      <td>0.148901</td>\n",
       "      <td>...</td>\n",
       "      <td>0.676633</td>\n",
       "      <td>-0.375779</td>\n",
       "      <td>-0.181011</td>\n",
       "      <td>-0.071380</td>\n",
       "      <td>-0.035273</td>\n",
       "      <td>-0.001973</td>\n",
       "      <td>-0.213489</td>\n",
       "      <td>-0.131371</td>\n",
       "      <td>-0.118501</td>\n",
       "      <td>-0.539513</td>\n",
       "    </tr>\n",
       "    <tr>\n",
       "      <th>2</th>\n",
       "      <td>-0.374356</td>\n",
       "      <td>1.434953</td>\n",
       "      <td>0.746406</td>\n",
       "      <td>0.976368</td>\n",
       "      <td>-1.143485</td>\n",
       "      <td>0.569729</td>\n",
       "      <td>-0.375201</td>\n",
       "      <td>-1.045166</td>\n",
       "      <td>-0.543741</td>\n",
       "      <td>0.414921</td>\n",
       "      <td>...</td>\n",
       "      <td>0.676633</td>\n",
       "      <td>-0.304190</td>\n",
       "      <td>-0.089628</td>\n",
       "      <td>0.631196</td>\n",
       "      <td>-0.035273</td>\n",
       "      <td>-0.001973</td>\n",
       "      <td>-0.196155</td>\n",
       "      <td>-0.131371</td>\n",
       "      <td>-0.118501</td>\n",
       "      <td>-0.513548</td>\n",
       "    </tr>\n",
       "    <tr>\n",
       "      <th>3</th>\n",
       "      <td>2.296958</td>\n",
       "      <td>-0.696887</td>\n",
       "      <td>-0.031994</td>\n",
       "      <td>0.198476</td>\n",
       "      <td>-0.875064</td>\n",
       "      <td>-0.906737</td>\n",
       "      <td>0.549150</td>\n",
       "      <td>0.162332</td>\n",
       "      <td>-0.543741</td>\n",
       "      <td>0.100068</td>\n",
       "      <td>...</td>\n",
       "      <td>0.676633</td>\n",
       "      <td>1.833028</td>\n",
       "      <td>1.916567</td>\n",
       "      <td>3.165385</td>\n",
       "      <td>-0.035273</td>\n",
       "      <td>-0.001973</td>\n",
       "      <td>0.110323</td>\n",
       "      <td>-0.131371</td>\n",
       "      <td>-0.118501</td>\n",
       "      <td>0.865913</td>\n",
       "    </tr>\n",
       "    <tr>\n",
       "      <th>4</th>\n",
       "      <td>1.367805</td>\n",
       "      <td>1.434953</td>\n",
       "      <td>-0.995617</td>\n",
       "      <td>-0.579417</td>\n",
       "      <td>1.003884</td>\n",
       "      <td>-0.906737</td>\n",
       "      <td>0.283241</td>\n",
       "      <td>-1.045166</td>\n",
       "      <td>0.072901</td>\n",
       "      <td>-0.017746</td>\n",
       "      <td>...</td>\n",
       "      <td>0.676633</td>\n",
       "      <td>1.265776</td>\n",
       "      <td>0.563935</td>\n",
       "      <td>1.183301</td>\n",
       "      <td>-0.035273</td>\n",
       "      <td>-0.001973</td>\n",
       "      <td>-0.105240</td>\n",
       "      <td>-0.131371</td>\n",
       "      <td>-0.118501</td>\n",
       "      <td>0.435677</td>\n",
       "    </tr>\n",
       "  </tbody>\n",
       "</table>\n",
       "<p>5 rows × 27 columns</p>\n",
       "</div>"
      ],
      "text/plain": [
       "   loan_amnt      term  int_rate     grade  emp_length  home_ownership  \\\n",
       "0   2.296958 -0.696887 -0.763503 -0.579417   -1.411906       -0.906737   \n",
       "1  -0.432428  1.434953 -0.763503 -0.579417    1.003884        0.569729   \n",
       "2  -0.374356  1.434953  0.746406  0.976368   -1.143485        0.569729   \n",
       "3   2.296958 -0.696887 -0.031994  0.198476   -0.875064       -0.906737   \n",
       "4   1.367805  1.434953 -0.995617 -0.579417    1.003884       -0.906737   \n",
       "\n",
       "   annual_inc  verification_status   purpose       dti  ...  \\\n",
       "0    0.663111             0.162332 -0.543741  0.250665  ...   \n",
       "1   -0.045980            -1.045166 -0.543741  0.148901  ...   \n",
       "2   -0.375201            -1.045166 -0.543741  0.414921  ...   \n",
       "3    0.549150             0.162332 -0.543741  0.100068  ...   \n",
       "4    0.283241            -1.045166  0.072901 -0.017746  ...   \n",
       "\n",
       "   initial_list_status  out_prncp  total_pymnt  total_rec_int  \\\n",
       "0             0.676633   1.804893     1.799937       2.080642   \n",
       "1             0.676633  -0.375779    -0.181011      -0.071380   \n",
       "2             0.676633  -0.304190    -0.089628       0.631196   \n",
       "3             0.676633   1.833028     1.916567       3.165385   \n",
       "4             0.676633   1.265776     0.563935       1.183301   \n",
       "\n",
       "   total_rec_late_fee  recoveries  last_pymnt_amnt  \\\n",
       "0           -0.035273   -0.001973         0.092315   \n",
       "1           -0.035273   -0.001973        -0.213489   \n",
       "2           -0.035273   -0.001973        -0.196155   \n",
       "3           -0.035273   -0.001973         0.110323   \n",
       "4           -0.035273   -0.001973        -0.105240   \n",
       "\n",
       "   collections_12_mths_ex_med  tot_coll_amt  tot_cur_bal  \n",
       "0                   -0.131371     -0.118501     0.548148  \n",
       "1                   -0.131371     -0.118501    -0.539513  \n",
       "2                   -0.131371     -0.118501    -0.513548  \n",
       "3                   -0.131371     -0.118501     0.865913  \n",
       "4                   -0.131371     -0.118501     0.435677  \n",
       "\n",
       "[5 rows x 27 columns]"
      ]
     },
     "execution_count": 129,
     "metadata": {},
     "output_type": "execute_result"
    }
   ],
   "source": [
    "xtest.head()"
   ]
  },
  {
   "cell_type": "markdown",
   "metadata": {},
   "source": [
    "## Modelling"
   ]
  },
  {
   "cell_type": "code",
   "execution_count": 130,
   "metadata": {},
   "outputs": [
    {
     "name": "stdout",
     "output_type": "stream",
     "text": [
      "              precision    recall  f1-score   support\n",
      "\n",
      "           0       1.00      0.83      0.91    256680\n",
      "           1       0.01      0.90      0.01       311\n",
      "\n",
      "    accuracy                           0.83    256991\n",
      "   macro avg       0.50      0.87      0.46    256991\n",
      "weighted avg       1.00      0.83      0.90    256991\n",
      "\n"
     ]
    }
   ],
   "source": [
    "from sklearn.metrics import confusion_matrix, accuracy_score,classification_report\n",
    "from sklearn.linear_model import LogisticRegression\n",
    "model = LogisticRegression()\n",
    "model.fit(xtrain, y_train)\n",
    "y_pred=model.predict(xtest)\n",
    "print(classification_report(y_test,y_pred))\n",
    "\n"
   ]
  },
  {
   "cell_type": "code",
   "execution_count": 131,
   "metadata": {},
   "outputs": [
    {
     "name": "stdout",
     "output_type": "stream",
     "text": [
      "0.8274258631625232\n"
     ]
    }
   ],
   "source": [
    "print(accuracy_score(y_test,y_pred))"
   ]
  },
  {
   "cell_type": "code",
   "execution_count": null,
   "metadata": {},
   "outputs": [],
   "source": [
    "### Decision Tree Classifier"
   ]
  },
  {
   "cell_type": "code",
   "execution_count": 132,
   "metadata": {},
   "outputs": [
    {
     "name": "stdout",
     "output_type": "stream",
     "text": [
      "              precision    recall  f1-score   support\n",
      "\n",
      "           0       0.00      0.00      0.00    256680\n",
      "           1       0.00      1.00      0.00       311\n",
      "\n",
      "    accuracy                           0.00    256991\n",
      "   macro avg       0.00      0.50      0.00    256991\n",
      "weighted avg       0.00      0.00      0.00    256991\n",
      "\n"
     ]
    }
   ],
   "source": [
    "from sklearn.tree import DecisionTreeClassifier\n",
    "model = DecisionTreeClassifier()\n",
    "model.fit(xtrain, y_train)\n",
    "y_pred=model.predict(xtest)\n",
    "print(classification_report(y_test,y_pred))"
   ]
  },
  {
   "cell_type": "code",
   "execution_count": 133,
   "metadata": {},
   "outputs": [
    {
     "name": "stdout",
     "output_type": "stream",
     "text": [
      "0.0012101591106303334\n"
     ]
    }
   ],
   "source": [
    "print(accuracy_score(y_test,y_pred))"
   ]
  },
  {
   "cell_type": "markdown",
   "metadata": {},
   "source": [
    "### Random Forest Classifier"
   ]
  },
  {
   "cell_type": "code",
   "execution_count": 135,
   "metadata": {},
   "outputs": [
    {
     "name": "stdout",
     "output_type": "stream",
     "text": [
      "              precision    recall  f1-score   support\n",
      "\n",
      "           0       1.00      0.73      0.84    256680\n",
      "           1       0.00      0.85      0.01       311\n",
      "\n",
      "    accuracy                           0.73    256991\n",
      "   macro avg       0.50      0.79      0.43    256991\n",
      "weighted avg       1.00      0.73      0.84    256991\n",
      "\n"
     ]
    }
   ],
   "source": [
    "from sklearn.ensemble import RandomForestClassifier\n",
    "model = RandomForestClassifier(n_estimators=10, criterion='entropy')\n",
    "model.fit(xtrain, y_train)\n",
    "y_pred=model.predict(xtest)\n",
    "print(classification_report(y_test,y_pred))"
   ]
  },
  {
   "cell_type": "code",
   "execution_count": 136,
   "metadata": {},
   "outputs": [
    {
     "name": "stdout",
     "output_type": "stream",
     "text": [
      "0.730395227848446\n"
     ]
    }
   ],
   "source": [
    "print(accuracy_score(y_test,y_pred))"
   ]
  },
  {
   "cell_type": "markdown",
   "metadata": {},
   "source": [
    "### Gradient Boost Classifier"
   ]
  },
  {
   "cell_type": "code",
   "execution_count": 137,
   "metadata": {},
   "outputs": [
    {
     "name": "stdout",
     "output_type": "stream",
     "text": [
      "              precision    recall  f1-score   support\n",
      "\n",
      "           0       1.00      0.00      0.01    256680\n",
      "           1       0.00      1.00      0.00       311\n",
      "\n",
      "    accuracy                           0.00    256991\n",
      "   macro avg       0.50      0.50      0.00    256991\n",
      "weighted avg       1.00      0.00      0.01    256991\n",
      "\n"
     ]
    }
   ],
   "source": [
    "from sklearn.ensemble import GradientBoostingClassifier\n",
    "model=GradientBoostingClassifier()\n",
    "model.fit(xtrain, y_train)\n",
    "y_pred=model.predict(xtest)\n",
    "print(classification_report(y_test,y_pred))"
   ]
  },
  {
   "cell_type": "code",
   "execution_count": 138,
   "metadata": {},
   "outputs": [
    {
     "name": "stdout",
     "output_type": "stream",
     "text": [
      "0.0037238658163126336\n"
     ]
    }
   ],
   "source": [
    "print(accuracy_score(y_test,y_pred))"
   ]
  },
  {
   "cell_type": "markdown",
   "metadata": {},
   "source": []
  },
  {
   "cell_type": "markdown",
   "metadata": {},
   "source": [
    "## We can clearly observe that due to inbalaced data none of the model performing well so we have to balance it."
   ]
  },
  {
   "cell_type": "code",
   "execution_count": null,
   "metadata": {},
   "outputs": [],
   "source": []
  },
  {
   "cell_type": "markdown",
   "metadata": {},
   "source": [
    "## Over-Sampling"
   ]
  },
  {
   "cell_type": "code",
   "execution_count": 47,
   "metadata": {},
   "outputs": [],
   "source": [
    "X = train.iloc[:,0:-1].values\n",
    "Y = train.iloc[:,-1].values"
   ]
  },
  {
   "cell_type": "code",
   "execution_count": 48,
   "metadata": {},
   "outputs": [],
   "source": [
    "fraud= df3[df3['default_ind']==1]\n",
    "normal= df3[df3['default_ind']==0]"
   ]
  },
  {
   "cell_type": "code",
   "execution_count": null,
   "metadata": {},
   "outputs": [],
   "source": [
    "fraud.shape"
   ]
  },
  {
   "cell_type": "code",
   "execution_count": 49,
   "metadata": {},
   "outputs": [],
   "source": []
  },
  {
   "cell_type": "code",
   "execution_count": 60,
   "metadata": {},
   "outputs": [],
   "source": [
    "from imblearn.combine import SMOTETomek\n",
    "from imblearn.over_sampling import RandomOverSampler\n",
    "os =  RandomOverSampler()\n",
    "X_o_res, Y_o_res = os.fit_sample(X, Y)"
   ]
  },
  {
   "cell_type": "markdown",
   "metadata": {},
   "source": [
    "__X_o_res:__ 'X' Over sampling result ; __Y_o_res:__ 'Y' Over sampling result"
   ]
  },
  {
   "cell_type": "code",
   "execution_count": 63,
   "metadata": {},
   "outputs": [
    {
     "name": "stdout",
     "output_type": "stream",
     "text": [
      "(1105644, 27) (1105644,)\n"
     ]
    }
   ],
   "source": [
    "print(X_o_res.shape,Y_o_res.shape)"
   ]
  },
  {
   "cell_type": "markdown",
   "metadata": {},
   "source": []
  },
  {
   "cell_type": "code",
   "execution_count": 68,
   "metadata": {},
   "outputs": [
    {
     "data": {
      "text/html": [
       "<div>\n",
       "<style scoped>\n",
       "    .dataframe tbody tr th:only-of-type {\n",
       "        vertical-align: middle;\n",
       "    }\n",
       "\n",
       "    .dataframe tbody tr th {\n",
       "        vertical-align: top;\n",
       "    }\n",
       "\n",
       "    .dataframe thead th {\n",
       "        text-align: right;\n",
       "    }\n",
       "</style>\n",
       "<table border=\"1\" class=\"dataframe\">\n",
       "  <thead>\n",
       "    <tr style=\"text-align: right;\">\n",
       "      <th></th>\n",
       "      <th>loan_amnt</th>\n",
       "      <th>term</th>\n",
       "      <th>int_rate</th>\n",
       "      <th>grade</th>\n",
       "      <th>emp_length</th>\n",
       "      <th>home_ownership</th>\n",
       "      <th>annual_inc</th>\n",
       "      <th>verification_status</th>\n",
       "      <th>purpose</th>\n",
       "      <th>dti</th>\n",
       "      <th>...</th>\n",
       "      <th>initial_list_status</th>\n",
       "      <th>out_prncp</th>\n",
       "      <th>total_pymnt</th>\n",
       "      <th>total_rec_int</th>\n",
       "      <th>total_rec_late_fee</th>\n",
       "      <th>recoveries</th>\n",
       "      <th>last_pymnt_amnt</th>\n",
       "      <th>collections_12_mths_ex_med</th>\n",
       "      <th>tot_coll_amt</th>\n",
       "      <th>tot_cur_bal</th>\n",
       "    </tr>\n",
       "  </thead>\n",
       "  <tbody>\n",
       "    <tr>\n",
       "      <th>0</th>\n",
       "      <td>7500.0</td>\n",
       "      <td>1.0</td>\n",
       "      <td>13.75</td>\n",
       "      <td>5.0</td>\n",
       "      <td>0.0</td>\n",
       "      <td>3.0</td>\n",
       "      <td>22000.0</td>\n",
       "      <td>3.0</td>\n",
       "      <td>1.0</td>\n",
       "      <td>14.29</td>\n",
       "      <td>...</td>\n",
       "      <td>1.0</td>\n",
       "      <td>0.0</td>\n",
       "      <td>9194.98</td>\n",
       "      <td>1694.98</td>\n",
       "      <td>0.0</td>\n",
       "      <td>0.0</td>\n",
       "      <td>256.59</td>\n",
       "      <td>0.0</td>\n",
       "      <td>208.0</td>\n",
       "      <td>138990.0</td>\n",
       "    </tr>\n",
       "    <tr>\n",
       "      <th>1</th>\n",
       "      <td>5000.0</td>\n",
       "      <td>1.0</td>\n",
       "      <td>7.43</td>\n",
       "      <td>1.0</td>\n",
       "      <td>8.0</td>\n",
       "      <td>1.0</td>\n",
       "      <td>150000.0</td>\n",
       "      <td>3.0</td>\n",
       "      <td>3.0</td>\n",
       "      <td>0.00</td>\n",
       "      <td>...</td>\n",
       "      <td>1.0</td>\n",
       "      <td>0.0</td>\n",
       "      <td>5174.17</td>\n",
       "      <td>174.17</td>\n",
       "      <td>0.0</td>\n",
       "      <td>0.0</td>\n",
       "      <td>4397.47</td>\n",
       "      <td>0.0</td>\n",
       "      <td>208.0</td>\n",
       "      <td>138990.0</td>\n",
       "    </tr>\n",
       "    <tr>\n",
       "      <th>2</th>\n",
       "      <td>5750.0</td>\n",
       "      <td>1.0</td>\n",
       "      <td>7.43</td>\n",
       "      <td>1.0</td>\n",
       "      <td>10.0</td>\n",
       "      <td>1.0</td>\n",
       "      <td>125000.0</td>\n",
       "      <td>3.0</td>\n",
       "      <td>1.0</td>\n",
       "      <td>0.27</td>\n",
       "      <td>...</td>\n",
       "      <td>1.0</td>\n",
       "      <td>0.0</td>\n",
       "      <td>6421.50</td>\n",
       "      <td>671.50</td>\n",
       "      <td>0.0</td>\n",
       "      <td>0.0</td>\n",
       "      <td>4.74</td>\n",
       "      <td>0.0</td>\n",
       "      <td>208.0</td>\n",
       "      <td>138990.0</td>\n",
       "    </tr>\n",
       "    <tr>\n",
       "      <th>3</th>\n",
       "      <td>5000.0</td>\n",
       "      <td>1.0</td>\n",
       "      <td>7.43</td>\n",
       "      <td>1.0</td>\n",
       "      <td>6.0</td>\n",
       "      <td>2.0</td>\n",
       "      <td>40000.0</td>\n",
       "      <td>3.0</td>\n",
       "      <td>7.0</td>\n",
       "      <td>2.55</td>\n",
       "      <td>...</td>\n",
       "      <td>1.0</td>\n",
       "      <td>0.0</td>\n",
       "      <td>5593.39</td>\n",
       "      <td>593.39</td>\n",
       "      <td>0.0</td>\n",
       "      <td>0.0</td>\n",
       "      <td>158.65</td>\n",
       "      <td>0.0</td>\n",
       "      <td>208.0</td>\n",
       "      <td>138990.0</td>\n",
       "    </tr>\n",
       "    <tr>\n",
       "      <th>4</th>\n",
       "      <td>1200.0</td>\n",
       "      <td>1.0</td>\n",
       "      <td>11.54</td>\n",
       "      <td>3.0</td>\n",
       "      <td>0.0</td>\n",
       "      <td>2.0</td>\n",
       "      <td>20000.0</td>\n",
       "      <td>3.0</td>\n",
       "      <td>2.0</td>\n",
       "      <td>2.04</td>\n",
       "      <td>...</td>\n",
       "      <td>1.0</td>\n",
       "      <td>0.0</td>\n",
       "      <td>1425.37</td>\n",
       "      <td>225.37</td>\n",
       "      <td>0.0</td>\n",
       "      <td>0.0</td>\n",
       "      <td>39.45</td>\n",
       "      <td>0.0</td>\n",
       "      <td>208.0</td>\n",
       "      <td>138990.0</td>\n",
       "    </tr>\n",
       "  </tbody>\n",
       "</table>\n",
       "<p>5 rows × 27 columns</p>\n",
       "</div>"
      ],
      "text/plain": [
       "   loan_amnt  term  int_rate  grade  emp_length  home_ownership  annual_inc  \\\n",
       "0     7500.0   1.0     13.75    5.0         0.0             3.0     22000.0   \n",
       "1     5000.0   1.0      7.43    1.0         8.0             1.0    150000.0   \n",
       "2     5750.0   1.0      7.43    1.0        10.0             1.0    125000.0   \n",
       "3     5000.0   1.0      7.43    1.0         6.0             2.0     40000.0   \n",
       "4     1200.0   1.0     11.54    3.0         0.0             2.0     20000.0   \n",
       "\n",
       "   verification_status  purpose    dti  ...  initial_list_status  out_prncp  \\\n",
       "0                  3.0      1.0  14.29  ...                  1.0        0.0   \n",
       "1                  3.0      3.0   0.00  ...                  1.0        0.0   \n",
       "2                  3.0      1.0   0.27  ...                  1.0        0.0   \n",
       "3                  3.0      7.0   2.55  ...                  1.0        0.0   \n",
       "4                  3.0      2.0   2.04  ...                  1.0        0.0   \n",
       "\n",
       "   total_pymnt  total_rec_int  total_rec_late_fee  recoveries  \\\n",
       "0      9194.98        1694.98                 0.0         0.0   \n",
       "1      5174.17         174.17                 0.0         0.0   \n",
       "2      6421.50         671.50                 0.0         0.0   \n",
       "3      5593.39         593.39                 0.0         0.0   \n",
       "4      1425.37         225.37                 0.0         0.0   \n",
       "\n",
       "   last_pymnt_amnt  collections_12_mths_ex_med  tot_coll_amt  tot_cur_bal  \n",
       "0           256.59                         0.0         208.0     138990.0  \n",
       "1          4397.47                         0.0         208.0     138990.0  \n",
       "2             4.74                         0.0         208.0     138990.0  \n",
       "3           158.65                         0.0         208.0     138990.0  \n",
       "4            39.45                         0.0         208.0     138990.0  \n",
       "\n",
       "[5 rows x 27 columns]"
      ]
     },
     "execution_count": 68,
     "metadata": {},
     "output_type": "execute_result"
    }
   ],
   "source": [
    "cols=['loan_amnt', 'term', 'int_rate', 'grade', 'emp_length',\n",
    "       'home_ownership', 'annual_inc', 'verification_status', 'purpose', 'dti',\n",
    "       'delinq_2yrs', 'inq_last_6mths', 'open_acc', 'pub_rec', 'revol_bal',\n",
    "       'revol_util', 'total_acc', 'initial_list_status', 'out_prncp',\n",
    "       'total_pymnt', 'total_rec_int', 'total_rec_late_fee', 'recoveries',\n",
    "       'last_pymnt_amnt', 'collections_12_mths_ex_med', 'tot_coll_amt',\n",
    "       'tot_cur_bal']\n",
    "\n",
    "new_df= pd.DataFrame(X_o_res,columns=cols)\n",
    "new_df.head()"
   ]
  },
  {
   "cell_type": "code",
   "execution_count": 77,
   "metadata": {},
   "outputs": [
    {
     "data": {
      "text/html": [
       "<div>\n",
       "<style scoped>\n",
       "    .dataframe tbody tr th:only-of-type {\n",
       "        vertical-align: middle;\n",
       "    }\n",
       "\n",
       "    .dataframe tbody tr th {\n",
       "        vertical-align: top;\n",
       "    }\n",
       "\n",
       "    .dataframe thead th {\n",
       "        text-align: right;\n",
       "    }\n",
       "</style>\n",
       "<table border=\"1\" class=\"dataframe\">\n",
       "  <thead>\n",
       "    <tr style=\"text-align: right;\">\n",
       "      <th></th>\n",
       "      <th>loan_amnt</th>\n",
       "      <th>term</th>\n",
       "      <th>int_rate</th>\n",
       "      <th>grade</th>\n",
       "      <th>emp_length</th>\n",
       "      <th>home_ownership</th>\n",
       "      <th>annual_inc</th>\n",
       "      <th>verification_status</th>\n",
       "      <th>purpose</th>\n",
       "      <th>dti</th>\n",
       "      <th>...</th>\n",
       "      <th>initial_list_status</th>\n",
       "      <th>out_prncp</th>\n",
       "      <th>total_pymnt</th>\n",
       "      <th>total_rec_int</th>\n",
       "      <th>total_rec_late_fee</th>\n",
       "      <th>recoveries</th>\n",
       "      <th>last_pymnt_amnt</th>\n",
       "      <th>collections_12_mths_ex_med</th>\n",
       "      <th>tot_coll_amt</th>\n",
       "      <th>tot_cur_bal</th>\n",
       "    </tr>\n",
       "  </thead>\n",
       "  <tbody>\n",
       "    <tr>\n",
       "      <th>0</th>\n",
       "      <td>-0.844549</td>\n",
       "      <td>-0.685507</td>\n",
       "      <td>-0.203703</td>\n",
       "      <td>1.380475</td>\n",
       "      <td>-1.678929</td>\n",
       "      <td>2.130106</td>\n",
       "      <td>-0.843116</td>\n",
       "      <td>1.320959</td>\n",
       "      <td>-0.523653</td>\n",
       "      <td>-0.463354</td>\n",
       "      <td>...</td>\n",
       "      <td>-0.717742</td>\n",
       "      <td>-0.535824</td>\n",
       "      <td>0.111429</td>\n",
       "      <td>-0.235313</td>\n",
       "      <td>-0.180459</td>\n",
       "      <td>-0.36718</td>\n",
       "      <td>-0.354719</td>\n",
       "      <td>-0.08961</td>\n",
       "      <td>0.002948</td>\n",
       "      <td>0.067732</td>\n",
       "    </tr>\n",
       "    <tr>\n",
       "      <th>1</th>\n",
       "      <td>-1.143558</td>\n",
       "      <td>-0.685507</td>\n",
       "      <td>-1.603481</td>\n",
       "      <td>-1.516542</td>\n",
       "      <td>0.513724</td>\n",
       "      <td>-0.953493</td>\n",
       "      <td>1.411800</td>\n",
       "      <td>1.320959</td>\n",
       "      <td>0.490559</td>\n",
       "      <td>-2.244760</td>\n",
       "      <td>...</td>\n",
       "      <td>-0.717742</td>\n",
       "      <td>-0.535824</td>\n",
       "      <td>-0.444670</td>\n",
       "      <td>-0.908484</td>\n",
       "      <td>-0.180459</td>\n",
       "      <td>-0.36718</td>\n",
       "      <td>0.639079</td>\n",
       "      <td>-0.08961</td>\n",
       "      <td>0.002948</td>\n",
       "      <td>0.067732</td>\n",
       "    </tr>\n",
       "    <tr>\n",
       "      <th>2</th>\n",
       "      <td>-1.053855</td>\n",
       "      <td>-0.685507</td>\n",
       "      <td>-1.603481</td>\n",
       "      <td>-1.516542</td>\n",
       "      <td>1.061887</td>\n",
       "      <td>-0.953493</td>\n",
       "      <td>0.971387</td>\n",
       "      <td>1.320959</td>\n",
       "      <td>-0.523653</td>\n",
       "      <td>-2.211102</td>\n",
       "      <td>...</td>\n",
       "      <td>-0.717742</td>\n",
       "      <td>-0.535824</td>\n",
       "      <td>-0.272158</td>\n",
       "      <td>-0.688346</td>\n",
       "      <td>-0.180459</td>\n",
       "      <td>-0.36718</td>\n",
       "      <td>-0.415162</td>\n",
       "      <td>-0.08961</td>\n",
       "      <td>0.002948</td>\n",
       "      <td>0.067732</td>\n",
       "    </tr>\n",
       "    <tr>\n",
       "      <th>3</th>\n",
       "      <td>-1.143558</td>\n",
       "      <td>-0.685507</td>\n",
       "      <td>-1.603481</td>\n",
       "      <td>-1.516542</td>\n",
       "      <td>-0.034439</td>\n",
       "      <td>0.588307</td>\n",
       "      <td>-0.526018</td>\n",
       "      <td>1.320959</td>\n",
       "      <td>2.518982</td>\n",
       "      <td>-1.926875</td>\n",
       "      <td>...</td>\n",
       "      <td>-0.717742</td>\n",
       "      <td>-0.535824</td>\n",
       "      <td>-0.386690</td>\n",
       "      <td>-0.722921</td>\n",
       "      <td>-0.180459</td>\n",
       "      <td>-0.36718</td>\n",
       "      <td>-0.378224</td>\n",
       "      <td>-0.08961</td>\n",
       "      <td>0.002948</td>\n",
       "      <td>0.067732</td>\n",
       "    </tr>\n",
       "    <tr>\n",
       "      <th>4</th>\n",
       "      <td>-1.598052</td>\n",
       "      <td>-0.685507</td>\n",
       "      <td>-0.693183</td>\n",
       "      <td>-0.068034</td>\n",
       "      <td>-1.678929</td>\n",
       "      <td>0.588307</td>\n",
       "      <td>-0.878349</td>\n",
       "      <td>1.320959</td>\n",
       "      <td>-0.016547</td>\n",
       "      <td>-1.990452</td>\n",
       "      <td>...</td>\n",
       "      <td>-0.717742</td>\n",
       "      <td>-0.535824</td>\n",
       "      <td>-0.963148</td>\n",
       "      <td>-0.885821</td>\n",
       "      <td>-0.180459</td>\n",
       "      <td>-0.36718</td>\n",
       "      <td>-0.406832</td>\n",
       "      <td>-0.08961</td>\n",
       "      <td>0.002948</td>\n",
       "      <td>0.067732</td>\n",
       "    </tr>\n",
       "  </tbody>\n",
       "</table>\n",
       "<p>5 rows × 27 columns</p>\n",
       "</div>"
      ],
      "text/plain": [
       "   loan_amnt      term  int_rate     grade  emp_length  home_ownership  \\\n",
       "0  -0.844549 -0.685507 -0.203703  1.380475   -1.678929        2.130106   \n",
       "1  -1.143558 -0.685507 -1.603481 -1.516542    0.513724       -0.953493   \n",
       "2  -1.053855 -0.685507 -1.603481 -1.516542    1.061887       -0.953493   \n",
       "3  -1.143558 -0.685507 -1.603481 -1.516542   -0.034439        0.588307   \n",
       "4  -1.598052 -0.685507 -0.693183 -0.068034   -1.678929        0.588307   \n",
       "\n",
       "   annual_inc  verification_status   purpose       dti  ...  \\\n",
       "0   -0.843116             1.320959 -0.523653 -0.463354  ...   \n",
       "1    1.411800             1.320959  0.490559 -2.244760  ...   \n",
       "2    0.971387             1.320959 -0.523653 -2.211102  ...   \n",
       "3   -0.526018             1.320959  2.518982 -1.926875  ...   \n",
       "4   -0.878349             1.320959 -0.016547 -1.990452  ...   \n",
       "\n",
       "   initial_list_status  out_prncp  total_pymnt  total_rec_int  \\\n",
       "0            -0.717742  -0.535824     0.111429      -0.235313   \n",
       "1            -0.717742  -0.535824    -0.444670      -0.908484   \n",
       "2            -0.717742  -0.535824    -0.272158      -0.688346   \n",
       "3            -0.717742  -0.535824    -0.386690      -0.722921   \n",
       "4            -0.717742  -0.535824    -0.963148      -0.885821   \n",
       "\n",
       "   total_rec_late_fee  recoveries  last_pymnt_amnt  \\\n",
       "0           -0.180459    -0.36718        -0.354719   \n",
       "1           -0.180459    -0.36718         0.639079   \n",
       "2           -0.180459    -0.36718        -0.415162   \n",
       "3           -0.180459    -0.36718        -0.378224   \n",
       "4           -0.180459    -0.36718        -0.406832   \n",
       "\n",
       "   collections_12_mths_ex_med  tot_coll_amt  tot_cur_bal  \n",
       "0                    -0.08961      0.002948     0.067732  \n",
       "1                    -0.08961      0.002948     0.067732  \n",
       "2                    -0.08961      0.002948     0.067732  \n",
       "3                    -0.08961      0.002948     0.067732  \n",
       "4                    -0.08961      0.002948     0.067732  \n",
       "\n",
       "[5 rows x 27 columns]"
      ]
     },
     "execution_count": 77,
     "metadata": {},
     "output_type": "execute_result"
    }
   ],
   "source": [
    "df_scale= pd.DataFrame(scaler.fit_transform(new_df),columns=cols)\n",
    "df_scale.head()"
   ]
  },
  {
   "cell_type": "code",
   "execution_count": 86,
   "metadata": {},
   "outputs": [],
   "source": [
    "new_res= pd.Series(Y_o_res)"
   ]
  },
  {
   "cell_type": "code",
   "execution_count": 87,
   "metadata": {},
   "outputs": [],
   "source": [
    "from sklearn.model_selection import train_test_split\n",
    "X_train,X_test,Y_train,Y_test=train_test_split(df_scale,new_res,test_size=0.3, random_state=5)"
   ]
  },
  {
   "cell_type": "code",
   "execution_count": 89,
   "metadata": {},
   "outputs": [
    {
     "name": "stdout",
     "output_type": "stream",
     "text": [
      "              precision    recall  f1-score   support\n",
      "\n",
      "           0       0.96      1.00      0.98    165678\n",
      "           1       1.00      0.96      0.98    166016\n",
      "\n",
      "    accuracy                           0.98    331694\n",
      "   macro avg       0.98      0.98      0.98    331694\n",
      "weighted avg       0.98      0.98      0.98    331694\n",
      "\n"
     ]
    }
   ],
   "source": [
    "from sklearn.linear_model import LogisticRegression\n",
    "\n",
    "L_model=LogisticRegression()\n",
    "L_model.fit(X_train,Y_train)\n",
    "y_pred=L_model.predict(X_test)\n",
    "print(classification_report(Y_test,y_pred))"
   ]
  },
  {
   "cell_type": "code",
   "execution_count": null,
   "metadata": {},
   "outputs": [],
   "source": [
    "print(accuracy_score(Y_test,y_pred))"
   ]
  },
  {
   "cell_type": "code",
   "execution_count": 59,
   "metadata": {},
   "outputs": [
    {
     "name": "stdout",
     "output_type": "stream",
     "text": [
      "              precision    recall  f1-score   support\n",
      "\n",
      "           0       1.00      0.95      0.97    165678\n",
      "           1       0.95      1.00      0.98    166016\n",
      "\n",
      "    accuracy                           0.97    331694\n",
      "   macro avg       0.98      0.97      0.97    331694\n",
      "weighted avg       0.98      0.97      0.97    331694\n",
      "\n"
     ]
    }
   ],
   "source": [
    "from sklearn.tree import DecisionTreeClassifier\n",
    "\n",
    "D_model = DecisionTreeClassifier()\n",
    "D_model.fit(X_train, Y_train)\n",
    "y_pred=D_model.predict(X_test)\n",
    "print(classification_report(Y_test,y_pred))"
   ]
  },
  {
   "cell_type": "code",
   "execution_count": null,
   "metadata": {},
   "outputs": [],
   "source": [
    "print(accuracy_score(Y_test,y_pred))"
   ]
  },
  {
   "cell_type": "code",
   "execution_count": 91,
   "metadata": {},
   "outputs": [
    {
     "name": "stdout",
     "output_type": "stream",
     "text": [
      "              precision    recall  f1-score   support\n",
      "\n",
      "           0       1.00      1.00      1.00    165678\n",
      "           1       1.00      1.00      1.00    166016\n",
      "\n",
      "    accuracy                           1.00    331694\n",
      "   macro avg       1.00      1.00      1.00    331694\n",
      "weighted avg       1.00      1.00      1.00    331694\n",
      "\n"
     ]
    }
   ],
   "source": [
    "from sklearn.ensemble import RandomForestClassifier\n",
    "\n",
    "R_model = RandomForestClassifier()\n",
    "R_model.fit(X_train, Y_train)\n",
    "y_pred=R_model.predict(X_test)\n",
    "print(classification_report(Y_test,y_pred))"
   ]
  },
  {
   "cell_type": "code",
   "execution_count": null,
   "metadata": {},
   "outputs": [],
   "source": [
    "print(accuracy_score(Y_test,y_pred))"
   ]
  },
  {
   "cell_type": "code",
   "execution_count": null,
   "metadata": {},
   "outputs": [],
   "source": [
    "from sklearn.ensemble import GradientBoostingClassifier\n",
    "\n",
    "G_model=GradientBoostingClassifier(n_estimators=130)\n",
    "G_model.fit(X_train,Y_train)\n",
    "y_pred=G_model.predict(X_test)\n",
    "print(classification_report(Y_test, y_pred))"
   ]
  },
  {
   "cell_type": "code",
   "execution_count": null,
   "metadata": {},
   "outputs": [],
   "source": [
    "print(accuracy_score(Y_test,y_pred))"
   ]
  },
  {
   "cell_type": "code",
   "execution_count": null,
   "metadata": {},
   "outputs": [],
   "source": []
  },
  {
   "cell_type": "code",
   "execution_count": null,
   "metadata": {},
   "outputs": [],
   "source": []
  },
  {
   "cell_type": "code",
   "execution_count": null,
   "metadata": {},
   "outputs": [],
   "source": [
    "y_pred=pd.DataFrame()"
   ]
  },
  {
   "cell_type": "code",
   "execution_count": null,
   "metadata": {},
   "outputs": [],
   "source": [
    "df_result=pd.concat([X_test,y_pred],axis=1)"
   ]
  },
  {
   "cell_type": "code",
   "execution_count": null,
   "metadata": {},
   "outputs": [],
   "source": []
  },
  {
   "cell_type": "code",
   "execution_count": null,
   "metadata": {},
   "outputs": [],
   "source": [
    "df_result.to_csv('final_data_with_prediction.csv')"
   ]
  },
  {
   "cell_type": "code",
   "execution_count": null,
   "metadata": {},
   "outputs": [],
   "source": []
  },
  {
   "cell_type": "markdown",
   "metadata": {},
   "source": [
    "### End of the Project"
   ]
  },
  {
   "cell_type": "code",
   "execution_count": null,
   "metadata": {},
   "outputs": [],
   "source": []
  }
 ],
 "metadata": {
  "kernelspec": {
   "display_name": "Python 3",
   "language": "python",
   "name": "python3"
  },
  "language_info": {
   "codemirror_mode": {
    "name": "ipython",
    "version": 3
   },
   "file_extension": ".py",
   "mimetype": "text/x-python",
   "name": "python",
   "nbconvert_exporter": "python",
   "pygments_lexer": "ipython3",
   "version": "3.7.3"
  }
 },
 "nbformat": 4,
 "nbformat_minor": 4
}
